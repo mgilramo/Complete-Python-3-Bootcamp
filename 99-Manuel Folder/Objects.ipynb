{
 "cells": [
  {
   "cell_type": "code",
   "execution_count": 8,
   "id": "de6fc658",
   "metadata": {},
   "outputs": [],
   "source": [
    "class Sample():\n",
    "    pass"
   ]
  },
  {
   "cell_type": "code",
   "execution_count": 9,
   "id": "77188f5f",
   "metadata": {},
   "outputs": [],
   "source": [
    "my_sample = Sample()"
   ]
  },
  {
   "cell_type": "code",
   "execution_count": 10,
   "id": "eb10637d",
   "metadata": {},
   "outputs": [
    {
     "data": {
      "text/plain": [
       "__main__.Sample"
      ]
     },
     "execution_count": 10,
     "metadata": {},
     "output_type": "execute_result"
    }
   ],
   "source": [
    "type(my_sample)"
   ]
  },
  {
   "cell_type": "code",
   "execution_count": 11,
   "id": "5ceacf4f",
   "metadata": {},
   "outputs": [],
   "source": [
    "class Dog():\n",
    "    # The \"self\" word can be any word\n",
    "    def __init__(self, breed):\n",
    "        \n",
    "        self.breed = breed"
   ]
  },
  {
   "cell_type": "code",
   "execution_count": 12,
   "id": "859b1325",
   "metadata": {},
   "outputs": [
    {
     "ename": "TypeError",
     "evalue": "__init__() missing 1 required positional argument: 'breed'",
     "output_type": "error",
     "traceback": [
      "\u001b[1;31m---------------------------------------------------------------------------\u001b[0m",
      "\u001b[1;31mTypeError\u001b[0m                                 Traceback (most recent call last)",
      "\u001b[1;32m~\\AppData\\Local\\Temp/ipykernel_4004/3226080032.py\u001b[0m in \u001b[0;36m<module>\u001b[1;34m\u001b[0m\n\u001b[1;32m----> 1\u001b[1;33m \u001b[0mmy_dog\u001b[0m \u001b[1;33m=\u001b[0m \u001b[0mDog\u001b[0m\u001b[1;33m(\u001b[0m\u001b[1;33m)\u001b[0m\u001b[1;33m\u001b[0m\u001b[1;33m\u001b[0m\u001b[0m\n\u001b[0m",
      "\u001b[1;31mTypeError\u001b[0m: __init__() missing 1 required positional argument: 'breed'"
     ]
    }
   ],
   "source": [
    "my_dog = Dog()"
   ]
  },
  {
   "cell_type": "code",
   "execution_count": 13,
   "id": "d53d6de0",
   "metadata": {},
   "outputs": [],
   "source": [
    "my_dog = Dog(breed = 'Lab')"
   ]
  },
  {
   "cell_type": "code",
   "execution_count": 14,
   "id": "e5ec36a9",
   "metadata": {},
   "outputs": [
    {
     "data": {
      "text/plain": [
       "__main__.Dog"
      ]
     },
     "execution_count": 14,
     "metadata": {},
     "output_type": "execute_result"
    }
   ],
   "source": [
    "type(my_dog)"
   ]
  },
  {
   "cell_type": "code",
   "execution_count": 15,
   "id": "e74e122c",
   "metadata": {},
   "outputs": [
    {
     "data": {
      "text/plain": [
       "'Lab'"
      ]
     },
     "execution_count": 15,
     "metadata": {},
     "output_type": "execute_result"
    }
   ],
   "source": [
    "my_dog.breed"
   ]
  },
  {
   "cell_type": "code",
   "execution_count": 16,
   "id": "57130302",
   "metadata": {},
   "outputs": [],
   "source": [
    "class Dog():\n",
    "    def __init__(self, breed, name, spots):\n",
    "        \n",
    "        self.breed = breed\n",
    "        self.name = name\n",
    "        self.spots = spots"
   ]
  },
  {
   "cell_type": "code",
   "execution_count": 17,
   "id": "86f0ebe9",
   "metadata": {},
   "outputs": [],
   "source": [
    "my_new_dog = Dog(breed = 'lab', name = 'Sammy', spots = False)"
   ]
  },
  {
   "cell_type": "code",
   "execution_count": 18,
   "id": "e9eb2490",
   "metadata": {},
   "outputs": [
    {
     "data": {
      "text/plain": [
       "'Sammy'"
      ]
     },
     "execution_count": 18,
     "metadata": {},
     "output_type": "execute_result"
    }
   ],
   "source": [
    "my_new_dog.name"
   ]
  },
  {
   "cell_type": "code",
   "execution_count": 41,
   "id": "57630b61",
   "metadata": {},
   "outputs": [],
   "source": [
    "class Ferrari():\n",
    "    \n",
    "    # CLASS OBJECT ATTRIBUTE\n",
    "    # ANY INSTANCE OF THIS OBJECT WILL SHARE THESE ATTRIBUTES\n",
    "    brand = 'Ferrari'\n",
    "    \n",
    "    def __init__(self, model, bhp):\n",
    "        \n",
    "        self.model = model\n",
    "        self.bhp = bhp\n",
    "        \n",
    "    # OBJECT METHODS\n",
    "    # ACTIONS THAT CAN BE PERFORMED WITH THE INSTANCE\n",
    "    def upgrade(self, new_bhp):\n",
    "        self.bhp = new_bhp\n",
    "        \n",
    "    # USUALLY IF ANY METHOD NEEEDS TO REFER TO A CLASS OBJECT ATTRIBUTE\n",
    "    # THE CLASS NAME IS USED, AS FOR EXAMPLE\n",
    "    def print_brand(self):\n",
    "        print(f'The brand of the car is {Ferrari.brand}')"
   ]
  },
  {
   "cell_type": "code",
   "execution_count": 42,
   "id": "0d3e82b1",
   "metadata": {},
   "outputs": [],
   "source": [
    "my_ferrari = Ferrari('F430', 400)"
   ]
  },
  {
   "cell_type": "code",
   "execution_count": 43,
   "id": "f7030b19",
   "metadata": {},
   "outputs": [],
   "source": [
    "my_ferrari.upgrade(450)"
   ]
  },
  {
   "cell_type": "code",
   "execution_count": 44,
   "id": "9ec58eb9",
   "metadata": {},
   "outputs": [
    {
     "data": {
      "text/plain": [
       "450"
      ]
     },
     "execution_count": 44,
     "metadata": {},
     "output_type": "execute_result"
    }
   ],
   "source": [
    "my_ferrari.bhp"
   ]
  },
  {
   "cell_type": "code",
   "execution_count": 45,
   "id": "24b6a869",
   "metadata": {},
   "outputs": [
    {
     "data": {
      "text/plain": [
       "'Ferrari'"
      ]
     },
     "execution_count": 45,
     "metadata": {},
     "output_type": "execute_result"
    }
   ],
   "source": [
    "Ferrari.brand"
   ]
  },
  {
   "cell_type": "code",
   "execution_count": 46,
   "id": "6465ebf4",
   "metadata": {},
   "outputs": [
    {
     "name": "stdout",
     "output_type": "stream",
     "text": [
      "The brand of the car is Ferrari\n"
     ]
    }
   ],
   "source": [
    "my_ferrari.print_brand()"
   ]
  },
  {
   "cell_type": "code",
   "execution_count": 47,
   "id": "437d88d9",
   "metadata": {},
   "outputs": [
    {
     "ename": "TypeError",
     "evalue": "print_brand() missing 1 required positional argument: 'self'",
     "output_type": "error",
     "traceback": [
      "\u001b[1;31m---------------------------------------------------------------------------\u001b[0m",
      "\u001b[1;31mTypeError\u001b[0m                                 Traceback (most recent call last)",
      "\u001b[1;32m~\\AppData\\Local\\Temp/ipykernel_4004/3917457374.py\u001b[0m in \u001b[0;36m<module>\u001b[1;34m\u001b[0m\n\u001b[1;32m----> 1\u001b[1;33m \u001b[0mFerrari\u001b[0m\u001b[1;33m.\u001b[0m\u001b[0mprint_brand\u001b[0m\u001b[1;33m(\u001b[0m\u001b[1;33m)\u001b[0m\u001b[1;33m\u001b[0m\u001b[1;33m\u001b[0m\u001b[0m\n\u001b[0m",
      "\u001b[1;31mTypeError\u001b[0m: print_brand() missing 1 required positional argument: 'self'"
     ]
    }
   ],
   "source": [
    "Ferrari.print_brand()"
   ]
  },
  {
   "cell_type": "code",
   "execution_count": null,
   "id": "764ca837",
   "metadata": {},
   "outputs": [],
   "source": []
  }
 ],
 "metadata": {
  "kernelspec": {
   "display_name": "Python 3 (ipykernel)",
   "language": "python",
   "name": "python3"
  },
  "language_info": {
   "codemirror_mode": {
    "name": "ipython",
    "version": 3
   },
   "file_extension": ".py",
   "mimetype": "text/x-python",
   "name": "python",
   "nbconvert_exporter": "python",
   "pygments_lexer": "ipython3",
   "version": "3.9.7"
  }
 },
 "nbformat": 4,
 "nbformat_minor": 5
}
