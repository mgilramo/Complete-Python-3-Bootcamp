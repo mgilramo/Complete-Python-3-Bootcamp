{
 "cells": [
  {
   "cell_type": "code",
   "execution_count": 2,
   "id": "9e1e41ce",
   "metadata": {},
   "outputs": [],
   "source": [
    "x = 25"
   ]
  },
  {
   "cell_type": "code",
   "execution_count": 3,
   "id": "edea5bf6",
   "metadata": {},
   "outputs": [],
   "source": [
    "def printer():\n",
    "    x = 50\n",
    "    return x"
   ]
  },
  {
   "cell_type": "code",
   "execution_count": 4,
   "id": "8c537e49",
   "metadata": {},
   "outputs": [
    {
     "name": "stdout",
     "output_type": "stream",
     "text": [
      "25\n"
     ]
    }
   ],
   "source": [
    "print(x)"
   ]
  },
  {
   "cell_type": "code",
   "execution_count": 5,
   "id": "a6c4ebd5",
   "metadata": {},
   "outputs": [
    {
     "name": "stdout",
     "output_type": "stream",
     "text": [
      "50\n"
     ]
    }
   ],
   "source": [
    "print(printer())"
   ]
  },
  {
   "cell_type": "markdown",
   "id": "fe36b2f5",
   "metadata": {},
   "source": [
    "## LEGB Rule\n",
    "- (L)ocal\n",
    "- (E)nclosing function locals\n",
    "- (G)lobal\n",
    "- (B)uilt-in functions"
   ]
  },
  {
   "cell_type": "code",
   "execution_count": 22,
   "id": "ac360b98",
   "metadata": {},
   "outputs": [
    {
     "name": "stdout",
     "output_type": "stream",
     "text": [
      "Hello I'm local\n"
     ]
    }
   ],
   "source": [
    "# Global\n",
    "name = \"Global String\"\n",
    "\n",
    "def greet():\n",
    "    # Enclosing local\n",
    "    name = 'Sammy'\n",
    "    \n",
    "    def hello():\n",
    "        # Local\n",
    "        name = \"I'm local\"\n",
    "        print('Hello ' + name)\n",
    "    \n",
    "    hello()\n",
    "    \n",
    "greet()"
   ]
  },
  {
   "cell_type": "code",
   "execution_count": 26,
   "id": "bfe58b09",
   "metadata": {},
   "outputs": [],
   "source": [
    "x = 50\n",
    "\n",
    "# Below code is not recommended since it's updating locally a global variable\n",
    "def func():\n",
    "    global x\n",
    "    print(f'The X is equal to {x}')\n",
    "    \n",
    "    x = 100\n",
    "    print(f\"I've globally changed x to {x}\")\n",
    "\n",
    "# The recommended approach would be to accept a variable and return it once updated so it can be assign outside\n",
    "# def func(x):\n",
    "#     update x\n",
    "#     return x"
   ]
  },
  {
   "cell_type": "code",
   "execution_count": 25,
   "id": "57c13bf4",
   "metadata": {},
   "outputs": [
    {
     "name": "stdout",
     "output_type": "stream",
     "text": [
      "50\n",
      "The X is equal to 50\n",
      "I've globally changed x to 100\n",
      "100\n"
     ]
    }
   ],
   "source": [
    "print(x)\n",
    "func()\n",
    "print(x)"
   ]
  }
 ],
 "metadata": {
  "kernelspec": {
   "display_name": "Python 3 (ipykernel)",
   "language": "python",
   "name": "python3"
  },
  "language_info": {
   "codemirror_mode": {
    "name": "ipython",
    "version": 3
   },
   "file_extension": ".py",
   "mimetype": "text/x-python",
   "name": "python",
   "nbconvert_exporter": "python",
   "pygments_lexer": "ipython3",
   "version": "3.9.7"
  }
 },
 "nbformat": 4,
 "nbformat_minor": 5
}
