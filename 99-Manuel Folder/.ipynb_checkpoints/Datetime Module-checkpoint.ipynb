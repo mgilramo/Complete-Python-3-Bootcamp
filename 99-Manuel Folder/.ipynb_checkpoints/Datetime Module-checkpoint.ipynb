{
 "cells": [
  {
   "cell_type": "code",
   "execution_count": 1,
   "id": "9c0d0204",
   "metadata": {},
   "outputs": [],
   "source": [
    "import datetime"
   ]
  },
  {
   "cell_type": "code",
   "execution_count": 2,
   "id": "4b14edad",
   "metadata": {},
   "outputs": [],
   "source": [
    "mytime = datetime.time(2,20)"
   ]
  },
  {
   "cell_type": "code",
   "execution_count": 4,
   "id": "2f71d550",
   "metadata": {},
   "outputs": [
    {
     "data": {
      "text/plain": [
       "20"
      ]
     },
     "execution_count": 4,
     "metadata": {},
     "output_type": "execute_result"
    }
   ],
   "source": [
    "mytime.minute"
   ]
  },
  {
   "cell_type": "code",
   "execution_count": 5,
   "id": "3995a3a1",
   "metadata": {},
   "outputs": [
    {
     "data": {
      "text/plain": [
       "2"
      ]
     },
     "execution_count": 5,
     "metadata": {},
     "output_type": "execute_result"
    }
   ],
   "source": [
    "mytime.hour"
   ]
  },
  {
   "cell_type": "code",
   "execution_count": 6,
   "id": "f154d4a5",
   "metadata": {},
   "outputs": [
    {
     "name": "stdout",
     "output_type": "stream",
     "text": [
      "02:20:00\n"
     ]
    }
   ],
   "source": [
    "print(mytime)"
   ]
  },
  {
   "cell_type": "code",
   "execution_count": 7,
   "id": "4e54e2db",
   "metadata": {},
   "outputs": [
    {
     "data": {
      "text/plain": [
       "datetime.time"
      ]
     },
     "execution_count": 7,
     "metadata": {},
     "output_type": "execute_result"
    }
   ],
   "source": [
    "type(mytime)"
   ]
  },
  {
   "cell_type": "code",
   "execution_count": 8,
   "id": "8cdab5f1",
   "metadata": {},
   "outputs": [],
   "source": [
    "today = datetime.date.today()"
   ]
  },
  {
   "cell_type": "code",
   "execution_count": 10,
   "id": "8c8fa29d",
   "metadata": {},
   "outputs": [
    {
     "name": "stdout",
     "output_type": "stream",
     "text": [
      "2022-03-31\n"
     ]
    }
   ],
   "source": [
    "print(today)"
   ]
  },
  {
   "cell_type": "code",
   "execution_count": 11,
   "id": "36802f1c",
   "metadata": {},
   "outputs": [
    {
     "data": {
      "text/plain": [
       "2022"
      ]
     },
     "execution_count": 11,
     "metadata": {},
     "output_type": "execute_result"
    }
   ],
   "source": [
    "today.year"
   ]
  },
  {
   "cell_type": "code",
   "execution_count": 12,
   "id": "9e845807",
   "metadata": {},
   "outputs": [
    {
     "data": {
      "text/plain": [
       "3"
      ]
     },
     "execution_count": 12,
     "metadata": {},
     "output_type": "execute_result"
    }
   ],
   "source": [
    "today.month"
   ]
  },
  {
   "cell_type": "code",
   "execution_count": 13,
   "id": "3d99b83b",
   "metadata": {},
   "outputs": [
    {
     "data": {
      "text/plain": [
       "31"
      ]
     },
     "execution_count": 13,
     "metadata": {},
     "output_type": "execute_result"
    }
   ],
   "source": [
    "today.day"
   ]
  },
  {
   "cell_type": "code",
   "execution_count": 14,
   "id": "9a752a87",
   "metadata": {},
   "outputs": [
    {
     "data": {
      "text/plain": [
       "'Thu Mar 31 00:00:00 2022'"
      ]
     },
     "execution_count": 14,
     "metadata": {},
     "output_type": "execute_result"
    }
   ],
   "source": [
    "today.ctime()"
   ]
  },
  {
   "cell_type": "code",
   "execution_count": 16,
   "id": "70861dce",
   "metadata": {},
   "outputs": [],
   "source": [
    "dt = datetime.datetime(2021,10,3,14,20,1)"
   ]
  },
  {
   "cell_type": "code",
   "execution_count": 17,
   "id": "d8acb6a9",
   "metadata": {},
   "outputs": [
    {
     "name": "stdout",
     "output_type": "stream",
     "text": [
      "2021-10-03 14:20:01\n"
     ]
    }
   ],
   "source": [
    "print(dt)"
   ]
  },
  {
   "cell_type": "code",
   "execution_count": 18,
   "id": "82930af1",
   "metadata": {},
   "outputs": [
    {
     "data": {
      "text/plain": [
       "'Sun Oct  3 14:20:01 2021'"
      ]
     },
     "execution_count": 18,
     "metadata": {},
     "output_type": "execute_result"
    }
   ],
   "source": [
    "dt.ctime()"
   ]
  },
  {
   "cell_type": "code",
   "execution_count": 19,
   "id": "b3f93fc9",
   "metadata": {},
   "outputs": [],
   "source": [
    "from datetime import datetime"
   ]
  },
  {
   "cell_type": "code",
   "execution_count": 20,
   "id": "45278dc5",
   "metadata": {},
   "outputs": [],
   "source": [
    "dt = datetime(2021,10,3,14,20,1)"
   ]
  },
  {
   "cell_type": "code",
   "execution_count": 21,
   "id": "86b86b8f",
   "metadata": {},
   "outputs": [
    {
     "name": "stdout",
     "output_type": "stream",
     "text": [
      "2021-10-03 14:20:01\n"
     ]
    }
   ],
   "source": [
    "print(dt)"
   ]
  },
  {
   "cell_type": "code",
   "execution_count": 22,
   "id": "234c5351",
   "metadata": {},
   "outputs": [
    {
     "data": {
      "text/plain": [
       "'Sun Oct  3 14:20:01 2021'"
      ]
     },
     "execution_count": 22,
     "metadata": {},
     "output_type": "execute_result"
    }
   ],
   "source": [
    "dt.ctime()"
   ]
  },
  {
   "cell_type": "code",
   "execution_count": 23,
   "id": "829e66b6",
   "metadata": {},
   "outputs": [
    {
     "data": {
      "text/plain": [
       "datetime.datetime(2020, 10, 3, 14, 20, 1)"
      ]
     },
     "execution_count": 23,
     "metadata": {},
     "output_type": "execute_result"
    }
   ],
   "source": [
    "dt.replace(year=2020)"
   ]
  },
  {
   "cell_type": "code",
   "execution_count": 24,
   "id": "fbbd85f5",
   "metadata": {},
   "outputs": [
    {
     "data": {
      "text/plain": [
       "'Sun Oct  3 14:20:01 2021'"
      ]
     },
     "execution_count": 24,
     "metadata": {},
     "output_type": "execute_result"
    }
   ],
   "source": [
    "dt.ctime()"
   ]
  },
  {
   "cell_type": "code",
   "execution_count": 25,
   "id": "8dcae145",
   "metadata": {},
   "outputs": [],
   "source": [
    "dt = dt.replace(year=2020)"
   ]
  },
  {
   "cell_type": "code",
   "execution_count": 26,
   "id": "49372303",
   "metadata": {},
   "outputs": [
    {
     "data": {
      "text/plain": [
       "'Sat Oct  3 14:20:01 2020'"
      ]
     },
     "execution_count": 26,
     "metadata": {},
     "output_type": "execute_result"
    }
   ],
   "source": [
    "dt.ctime()"
   ]
  },
  {
   "cell_type": "code",
   "execution_count": 27,
   "id": "3ed1f6b7",
   "metadata": {},
   "outputs": [],
   "source": [
    "from datetime import date as d, datetime as dt"
   ]
  },
  {
   "cell_type": "code",
   "execution_count": 30,
   "id": "c324a913",
   "metadata": {},
   "outputs": [],
   "source": [
    "date1 = d(2023,11,3)"
   ]
  },
  {
   "cell_type": "code",
   "execution_count": 31,
   "id": "5558203f",
   "metadata": {},
   "outputs": [],
   "source": [
    "date2 = d(2022,3,31)"
   ]
  },
  {
   "cell_type": "code",
   "execution_count": 34,
   "id": "1b612e70",
   "metadata": {},
   "outputs": [],
   "source": [
    "td = date1 - date2"
   ]
  },
  {
   "cell_type": "code",
   "execution_count": 35,
   "id": "3d48491f",
   "metadata": {},
   "outputs": [
    {
     "data": {
      "text/plain": [
       "datetime.timedelta"
      ]
     },
     "execution_count": 35,
     "metadata": {},
     "output_type": "execute_result"
    }
   ],
   "source": [
    "type(td)"
   ]
  },
  {
   "cell_type": "code",
   "execution_count": 41,
   "id": "afa3e07a",
   "metadata": {},
   "outputs": [
    {
     "data": {
      "text/plain": [
       "50284800.0"
      ]
     },
     "execution_count": 41,
     "metadata": {},
     "output_type": "execute_result"
    }
   ],
   "source": [
    "td.total_seconds()"
   ]
  },
  {
   "cell_type": "code",
   "execution_count": 42,
   "id": "04c59bb8",
   "metadata": {},
   "outputs": [],
   "source": [
    "dt1 = dt(2023,11,3,22,0)"
   ]
  },
  {
   "cell_type": "code",
   "execution_count": 43,
   "id": "4b8de66e",
   "metadata": {},
   "outputs": [],
   "source": [
    "dt2 = dt(2022,3,31,12,0)"
   ]
  },
  {
   "cell_type": "code",
   "execution_count": 46,
   "id": "1d32ffe7",
   "metadata": {},
   "outputs": [],
   "source": [
    "td_new = dt1 - dt2"
   ]
  },
  {
   "cell_type": "code",
   "execution_count": 51,
   "id": "fe3e75cd",
   "metadata": {},
   "outputs": [
    {
     "data": {
      "text/plain": [
       "50320800.0"
      ]
     },
     "execution_count": 51,
     "metadata": {},
     "output_type": "execute_result"
    }
   ],
   "source": [
    "td_new.total_seconds()"
   ]
  },
  {
   "cell_type": "code",
   "execution_count": 54,
   "id": "cdfbf0c4",
   "metadata": {},
   "outputs": [
    {
     "data": {
      "text/plain": [
       "True"
      ]
     },
     "execution_count": 54,
     "metadata": {},
     "output_type": "execute_result"
    }
   ],
   "source": [
    "abs(td.total_seconds() - td_new.total_seconds()) == td_new.seconds"
   ]
  },
  {
   "cell_type": "code",
   "execution_count": null,
   "id": "329d4770",
   "metadata": {},
   "outputs": [],
   "source": []
  }
 ],
 "metadata": {
  "kernelspec": {
   "display_name": "Python 3 (ipykernel)",
   "language": "python",
   "name": "python3"
  },
  "language_info": {
   "codemirror_mode": {
    "name": "ipython",
    "version": 3
   },
   "file_extension": ".py",
   "mimetype": "text/x-python",
   "name": "python",
   "nbconvert_exporter": "python",
   "pygments_lexer": "ipython3",
   "version": "3.9.7"
  }
 },
 "nbformat": 4,
 "nbformat_minor": 5
}
