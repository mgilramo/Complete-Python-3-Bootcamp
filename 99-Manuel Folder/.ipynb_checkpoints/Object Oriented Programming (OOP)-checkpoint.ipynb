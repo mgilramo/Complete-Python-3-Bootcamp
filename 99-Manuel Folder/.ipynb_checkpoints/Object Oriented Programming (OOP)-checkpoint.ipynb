{
 "cells": [
  {
   "cell_type": "code",
   "execution_count": 2,
   "id": "e009f60e",
   "metadata": {},
   "outputs": [],
   "source": [
    "class Ferrari():\n",
    "    # CLASS OBJECT ATTRIBUTE\n",
    "    brand = 'Ferrari'\n",
    "    \n",
    "    def __init__(self, model, bhp = 200):\n",
    "        self.model = model\n",
    "        self.bhp = bhp\n",
    "    \n",
    "    # CLASS METHOD\n",
    "    def upgrade(self, new_bhp):\n",
    "        self.bhp = new_bhp"
   ]
  },
  {
   "cell_type": "code",
   "execution_count": 3,
   "id": "04a6defa",
   "metadata": {},
   "outputs": [],
   "source": [
    "my_car = Ferrari(model = 'F430', bhp = 400)\n",
    "my_second_car = Ferrari('360 Modena')"
   ]
  },
  {
   "cell_type": "code",
   "execution_count": 4,
   "id": "695af667",
   "metadata": {},
   "outputs": [
    {
     "data": {
      "text/plain": [
       "'Ferrari'"
      ]
     },
     "execution_count": 4,
     "metadata": {},
     "output_type": "execute_result"
    }
   ],
   "source": [
    "my_car.brand"
   ]
  },
  {
   "cell_type": "code",
   "execution_count": 9,
   "id": "3551761c",
   "metadata": {},
   "outputs": [
    {
     "data": {
      "text/plain": [
       "'Ferrari'"
      ]
     },
     "execution_count": 9,
     "metadata": {},
     "output_type": "execute_result"
    }
   ],
   "source": [
    "my_second_car.brand"
   ]
  },
  {
   "cell_type": "code",
   "execution_count": 5,
   "id": "42bd8656",
   "metadata": {},
   "outputs": [
    {
     "data": {
      "text/plain": [
       "'Ferrari'"
      ]
     },
     "execution_count": 5,
     "metadata": {},
     "output_type": "execute_result"
    }
   ],
   "source": [
    "Ferrari.brand"
   ]
  },
  {
   "cell_type": "code",
   "execution_count": 6,
   "id": "97e967fa",
   "metadata": {},
   "outputs": [
    {
     "data": {
      "text/plain": [
       "200"
      ]
     },
     "execution_count": 6,
     "metadata": {},
     "output_type": "execute_result"
    }
   ],
   "source": [
    "my_second_car.bhp"
   ]
  },
  {
   "cell_type": "code",
   "execution_count": 7,
   "id": "95048acc",
   "metadata": {},
   "outputs": [],
   "source": [
    "my_second_car.upgrade(350)"
   ]
  },
  {
   "cell_type": "code",
   "execution_count": 8,
   "id": "02dd24f9",
   "metadata": {},
   "outputs": [
    {
     "data": {
      "text/plain": [
       "350"
      ]
     },
     "execution_count": 8,
     "metadata": {},
     "output_type": "execute_result"
    }
   ],
   "source": [
    "my_second_car.bhp"
   ]
  },
  {
   "cell_type": "markdown",
   "id": "36d16d35",
   "metadata": {},
   "source": [
    "# Inheritance"
   ]
  },
  {
   "cell_type": "code",
   "execution_count": 10,
   "id": "bf9708e3",
   "metadata": {},
   "outputs": [],
   "source": [
    "class Animal():\n",
    "    \n",
    "    def __init__(self):\n",
    "        print(\"Animal Created\")\n",
    "        \n",
    "    def who_am_i(self):\n",
    "        print(\"I am an animal\")\n",
    "        \n",
    "    def eat(self):\n",
    "        print(\"I am eating\")"
   ]
  },
  {
   "cell_type": "code",
   "execution_count": 31,
   "id": "55f78b90",
   "metadata": {},
   "outputs": [],
   "source": [
    "class Dog(Animal):\n",
    "    \n",
    "    def __init__(self):\n",
    "        Animal.__init__(self)\n",
    "        print(\"Dog Created\")\n",
    "        \n",
    "    def eat(self):\n",
    "        Animal.eat(self)\n",
    "        print(\"But as a dog\")\n",
    "        \n",
    "    def bark(self):\n",
    "        print(\"Woof!\")"
   ]
  },
  {
   "cell_type": "code",
   "execution_count": 32,
   "id": "9d97e24b",
   "metadata": {},
   "outputs": [
    {
     "name": "stdout",
     "output_type": "stream",
     "text": [
      "Animal Created\n",
      "Dog Created\n"
     ]
    }
   ],
   "source": [
    "my_dog = Dog()"
   ]
  },
  {
   "cell_type": "code",
   "execution_count": 33,
   "id": "9b26fc70",
   "metadata": {},
   "outputs": [
    {
     "name": "stdout",
     "output_type": "stream",
     "text": [
      "I am eating\n",
      "But as a dog\n"
     ]
    }
   ],
   "source": [
    "my_dog.eat()"
   ]
  },
  {
   "cell_type": "code",
   "execution_count": 34,
   "id": "f93d7214",
   "metadata": {},
   "outputs": [
    {
     "name": "stdout",
     "output_type": "stream",
     "text": [
      "I am an animal\n"
     ]
    }
   ],
   "source": [
    "my_dog.who_am_i()"
   ]
  },
  {
   "cell_type": "code",
   "execution_count": 35,
   "id": "1597be33",
   "metadata": {},
   "outputs": [
    {
     "name": "stdout",
     "output_type": "stream",
     "text": [
      "Woof!\n"
     ]
    }
   ],
   "source": [
    "my_dog.bark()"
   ]
  },
  {
   "cell_type": "markdown",
   "id": "64d2c47a",
   "metadata": {},
   "source": [
    "# Polymorphism"
   ]
  },
  {
   "cell_type": "code",
   "execution_count": 49,
   "id": "b66092cd",
   "metadata": {},
   "outputs": [],
   "source": [
    "class Animal():\n",
    "    \n",
    "    def __init__(self, name):\n",
    "        self.name = name\n",
    "        \n",
    "    def speak(self):\n",
    "        raise NotImplementedError('Subclass must implement abstract method \"Speak\"')"
   ]
  },
  {
   "cell_type": "code",
   "execution_count": 50,
   "id": "7f3d3327",
   "metadata": {},
   "outputs": [],
   "source": [
    "class Dog(Animal):\n",
    "    \n",
    "    def speak(self):\n",
    "        return self.name + \" says woof!\""
   ]
  },
  {
   "cell_type": "code",
   "execution_count": 51,
   "id": "867d36cd",
   "metadata": {},
   "outputs": [],
   "source": [
    "class Cat(Animal):\n",
    "    \n",
    "    def speak(self):\n",
    "        return self.name + \" says meow!\""
   ]
  },
  {
   "cell_type": "code",
   "execution_count": 52,
   "id": "d5c2f424",
   "metadata": {},
   "outputs": [],
   "source": [
    "class Undefined(Animal):\n",
    "    pass"
   ]
  },
  {
   "cell_type": "code",
   "execution_count": 53,
   "id": "a46798f4",
   "metadata": {},
   "outputs": [],
   "source": [
    "rambo = Dog(\"Rambo\")"
   ]
  },
  {
   "cell_type": "code",
   "execution_count": 54,
   "id": "558899a2",
   "metadata": {},
   "outputs": [],
   "source": [
    "monty = Cat(\"Monty\")"
   ]
  },
  {
   "cell_type": "code",
   "execution_count": 55,
   "id": "9c0e780e",
   "metadata": {},
   "outputs": [
    {
     "name": "stdout",
     "output_type": "stream",
     "text": [
      "Rambo says woof!\n"
     ]
    }
   ],
   "source": [
    "print(rambo.speak())"
   ]
  },
  {
   "cell_type": "code",
   "execution_count": 56,
   "id": "a3961c41",
   "metadata": {},
   "outputs": [
    {
     "name": "stdout",
     "output_type": "stream",
     "text": [
      "Monty says meow!\n"
     ]
    }
   ],
   "source": [
    "print(monty.speak())"
   ]
  },
  {
   "cell_type": "code",
   "execution_count": 57,
   "id": "2efbbf98",
   "metadata": {},
   "outputs": [],
   "source": [
    "animal = Undefined(\"No name\")"
   ]
  },
  {
   "cell_type": "code",
   "execution_count": 58,
   "id": "7f9fed0a",
   "metadata": {},
   "outputs": [
    {
     "ename": "NotImplementedError",
     "evalue": "Subclass must implement abstract method \"Speak\"",
     "output_type": "error",
     "traceback": [
      "\u001b[1;31m---------------------------------------------------------------------------\u001b[0m",
      "\u001b[1;31mNotImplementedError\u001b[0m                       Traceback (most recent call last)",
      "\u001b[1;32m~\\AppData\\Local\\Temp/ipykernel_41748/4092336061.py\u001b[0m in \u001b[0;36m<module>\u001b[1;34m\u001b[0m\n\u001b[1;32m----> 1\u001b[1;33m \u001b[0mprint\u001b[0m\u001b[1;33m(\u001b[0m\u001b[0manimal\u001b[0m\u001b[1;33m.\u001b[0m\u001b[0mspeak\u001b[0m\u001b[1;33m(\u001b[0m\u001b[1;33m)\u001b[0m\u001b[1;33m)\u001b[0m\u001b[1;33m\u001b[0m\u001b[1;33m\u001b[0m\u001b[0m\n\u001b[0m",
      "\u001b[1;32m~\\AppData\\Local\\Temp/ipykernel_41748/1452213014.py\u001b[0m in \u001b[0;36mspeak\u001b[1;34m(self)\u001b[0m\n\u001b[0;32m      5\u001b[0m \u001b[1;33m\u001b[0m\u001b[0m\n\u001b[0;32m      6\u001b[0m     \u001b[1;32mdef\u001b[0m \u001b[0mspeak\u001b[0m\u001b[1;33m(\u001b[0m\u001b[0mself\u001b[0m\u001b[1;33m)\u001b[0m\u001b[1;33m:\u001b[0m\u001b[1;33m\u001b[0m\u001b[1;33m\u001b[0m\u001b[0m\n\u001b[1;32m----> 7\u001b[1;33m         \u001b[1;32mraise\u001b[0m \u001b[0mNotImplementedError\u001b[0m\u001b[1;33m(\u001b[0m\u001b[1;34m'Subclass must implement abstract method \"Speak\"'\u001b[0m\u001b[1;33m)\u001b[0m\u001b[1;33m\u001b[0m\u001b[1;33m\u001b[0m\u001b[0m\n\u001b[0m",
      "\u001b[1;31mNotImplementedError\u001b[0m: Subclass must implement abstract method \"Speak\""
     ]
    }
   ],
   "source": [
    "print(animal.speak())"
   ]
  },
  {
   "cell_type": "markdown",
   "id": "4f929db9",
   "metadata": {},
   "source": [
    "# Special methods (magic/dunder)"
   ]
  },
  {
   "cell_type": "code",
   "execution_count": 28,
   "id": "3db2fcbf",
   "metadata": {},
   "outputs": [],
   "source": [
    "class Book():\n",
    "    \n",
    "    def __init__(self, title, author, pages):\n",
    "        self.title = title\n",
    "        self.author = author\n",
    "        self.pages = pages\n",
    "        \n",
    "    def __str__(self):\n",
    "        return f'{self.title} by {self.author}'\n",
    "    \n",
    "    def __len__(self):\n",
    "        return self.pages\n",
    "    \n",
    "    def __del__(self):\n",
    "        print(f'The book object with title \"{self.title}\" has been deleted')"
   ]
  },
  {
   "cell_type": "code",
   "execution_count": 29,
   "id": "f2ea80f0",
   "metadata": {},
   "outputs": [],
   "source": [
    "my_book = Book('Gran Turismo Saga', 'Manuel', 100)"
   ]
  },
  {
   "cell_type": "code",
   "execution_count": 30,
   "id": "f4e53ed1",
   "metadata": {},
   "outputs": [
    {
     "name": "stdout",
     "output_type": "stream",
     "text": [
      "Gran Turismo Saga by Manuel\n"
     ]
    }
   ],
   "source": [
    "print(my_book)"
   ]
  },
  {
   "cell_type": "code",
   "execution_count": 31,
   "id": "c6e0018f",
   "metadata": {},
   "outputs": [
    {
     "data": {
      "text/plain": [
       "'Gran Turismo Saga by Manuel'"
      ]
     },
     "execution_count": 31,
     "metadata": {},
     "output_type": "execute_result"
    }
   ],
   "source": [
    "str(my_book)"
   ]
  },
  {
   "cell_type": "code",
   "execution_count": 32,
   "id": "7ed0dd53",
   "metadata": {},
   "outputs": [
    {
     "data": {
      "text/plain": [
       "100"
      ]
     },
     "execution_count": 32,
     "metadata": {},
     "output_type": "execute_result"
    }
   ],
   "source": [
    "len(my_book)"
   ]
  },
  {
   "cell_type": "code",
   "execution_count": 33,
   "id": "9c8b216b",
   "metadata": {},
   "outputs": [
    {
     "name": "stdout",
     "output_type": "stream",
     "text": [
      "The book object with title \"Gran Turismo Saga\" has been deleted\n"
     ]
    }
   ],
   "source": [
    "# Command for deleting the variable from the memory\n",
    "del my_book"
   ]
  },
  {
   "cell_type": "code",
   "execution_count": 34,
   "id": "0212c563",
   "metadata": {},
   "outputs": [
    {
     "ename": "NameError",
     "evalue": "name 'my_book' is not defined",
     "output_type": "error",
     "traceback": [
      "\u001b[1;31m---------------------------------------------------------------------------\u001b[0m",
      "\u001b[1;31mNameError\u001b[0m                                 Traceback (most recent call last)",
      "\u001b[1;32m~\\AppData\\Local\\Temp/ipykernel_8996/2565682966.py\u001b[0m in \u001b[0;36m<module>\u001b[1;34m\u001b[0m\n\u001b[1;32m----> 1\u001b[1;33m \u001b[0mmy_book\u001b[0m\u001b[1;33m\u001b[0m\u001b[1;33m\u001b[0m\u001b[0m\n\u001b[0m",
      "\u001b[1;31mNameError\u001b[0m: name 'my_book' is not defined"
     ]
    }
   ],
   "source": [
    "my_book"
   ]
  },
  {
   "cell_type": "code",
   "execution_count": null,
   "id": "b4cf44b1",
   "metadata": {},
   "outputs": [],
   "source": []
  }
 ],
 "metadata": {
  "kernelspec": {
   "display_name": "Python 3 (ipykernel)",
   "language": "python",
   "name": "python3"
  },
  "language_info": {
   "codemirror_mode": {
    "name": "ipython",
    "version": 3
   },
   "file_extension": ".py",
   "mimetype": "text/x-python",
   "name": "python",
   "nbconvert_exporter": "python",
   "pygments_lexer": "ipython3",
   "version": "3.9.7"
  }
 },
 "nbformat": 4,
 "nbformat_minor": 5
}
