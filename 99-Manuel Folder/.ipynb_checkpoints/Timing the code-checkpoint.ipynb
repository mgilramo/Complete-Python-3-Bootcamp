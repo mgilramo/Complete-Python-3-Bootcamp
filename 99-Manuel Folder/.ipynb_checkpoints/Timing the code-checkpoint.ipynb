{
 "cells": [
  {
   "cell_type": "code",
   "execution_count": 1,
   "id": "d1097352",
   "metadata": {},
   "outputs": [],
   "source": [
    "def func_one(n):\n",
    "    return [str(num) for num in range(n)]"
   ]
  },
  {
   "cell_type": "code",
   "execution_count": 2,
   "id": "f782c282",
   "metadata": {},
   "outputs": [
    {
     "data": {
      "text/plain": [
       "['0', '1', '2', '3', '4', '5', '6', '7', '8', '9']"
      ]
     },
     "execution_count": 2,
     "metadata": {},
     "output_type": "execute_result"
    }
   ],
   "source": [
    "func_one(10)"
   ]
  },
  {
   "cell_type": "code",
   "execution_count": 3,
   "id": "22b4e519",
   "metadata": {},
   "outputs": [],
   "source": [
    "def func_two(n):\n",
    "    return list(map(str,range(n)))"
   ]
  },
  {
   "cell_type": "code",
   "execution_count": 4,
   "id": "7ae4003c",
   "metadata": {},
   "outputs": [
    {
     "data": {
      "text/plain": [
       "['0', '1', '2', '3', '4', '5', '6', '7', '8', '9']"
      ]
     },
     "execution_count": 4,
     "metadata": {},
     "output_type": "execute_result"
    }
   ],
   "source": [
    "func_two(10)"
   ]
  },
  {
   "cell_type": "markdown",
   "id": "22c366ed",
   "metadata": {},
   "source": [
    "# Method 1 - Tracking time"
   ]
  },
  {
   "cell_type": "code",
   "execution_count": 5,
   "id": "bde24088",
   "metadata": {},
   "outputs": [],
   "source": [
    "import time"
   ]
  },
  {
   "cell_type": "code",
   "execution_count": 6,
   "id": "36e9d496",
   "metadata": {},
   "outputs": [],
   "source": [
    "def func_elapsed(func,value):\n",
    "    # CURRENT TIME BEFORE\n",
    "    start_time = time.time()\n",
    "    # RUN THE CODE\n",
    "    result = func(value)\n",
    "    # CURRENT TIME AFTER\n",
    "    end_time = time.time()\n",
    "    # ELAPSED TIME\n",
    "    elapsed_time = end_time - start_time\n",
    "\n",
    "    return elapsed_time"
   ]
  },
  {
   "cell_type": "code",
   "execution_count": 7,
   "id": "5fde0191",
   "metadata": {},
   "outputs": [
    {
     "data": {
      "text/plain": [
       "0.3967270851135254"
      ]
     },
     "execution_count": 7,
     "metadata": {},
     "output_type": "execute_result"
    }
   ],
   "source": [
    "# Func 1 result\n",
    "func_elapsed(func_one,1000000)"
   ]
  },
  {
   "cell_type": "code",
   "execution_count": 8,
   "id": "b6f0b5ef",
   "metadata": {},
   "outputs": [
    {
     "data": {
      "text/plain": [
       "0.263897180557251"
      ]
     },
     "execution_count": 8,
     "metadata": {},
     "output_type": "execute_result"
    }
   ],
   "source": [
    "# Func 2 result\n",
    "func_elapsed(func_two,1000000)"
   ]
  },
  {
   "cell_type": "code",
   "execution_count": 9,
   "id": "e3e84bb0",
   "metadata": {
    "scrolled": true
   },
   "outputs": [
    {
     "data": {
      "text/plain": [
       "0.0"
      ]
     },
     "execution_count": 9,
     "metadata": {},
     "output_type": "execute_result"
    }
   ],
   "source": [
    "# There are some limitations, specially when the time is very small\n",
    "func_elapsed(func_one,100)"
   ]
  },
  {
   "cell_type": "markdown",
   "id": "6b05c3b6",
   "metadata": {},
   "source": [
    "# Method 2 - Timeit Module"
   ]
  },
  {
   "cell_type": "code",
   "execution_count": 10,
   "id": "9aeddfc2",
   "metadata": {},
   "outputs": [],
   "source": [
    "import timeit"
   ]
  },
  {
   "cell_type": "code",
   "execution_count": 11,
   "id": "e825884b",
   "metadata": {},
   "outputs": [],
   "source": [
    "stmt = '''\n",
    "func_one(100)\n",
    "'''"
   ]
  },
  {
   "cell_type": "code",
   "execution_count": 12,
   "id": "e26164ea",
   "metadata": {},
   "outputs": [],
   "source": [
    "setup = '''\n",
    "def func_one(n):\n",
    "    return [str(num) for num in range(n)]\n",
    "'''"
   ]
  },
  {
   "cell_type": "code",
   "execution_count": 13,
   "id": "e780e627",
   "metadata": {},
   "outputs": [
    {
     "data": {
      "text/plain": [
       "2.7326571"
      ]
     },
     "execution_count": 13,
     "metadata": {},
     "output_type": "execute_result"
    }
   ],
   "source": [
    "timeit.timeit(stmt,setup,number = 100000)"
   ]
  },
  {
   "cell_type": "code",
   "execution_count": 14,
   "id": "445b1710",
   "metadata": {},
   "outputs": [],
   "source": [
    "stmt2 = '''\n",
    "func_two(100)\n",
    "'''"
   ]
  },
  {
   "cell_type": "code",
   "execution_count": 15,
   "id": "c49511a0",
   "metadata": {},
   "outputs": [],
   "source": [
    "setup2 = '''\n",
    "def func_two(n):\n",
    "    return list(map(str,range(n)))\n",
    "'''"
   ]
  },
  {
   "cell_type": "code",
   "execution_count": 16,
   "id": "1a1a6b57",
   "metadata": {},
   "outputs": [
    {
     "data": {
      "text/plain": [
       "2.2155256999999997"
      ]
     },
     "execution_count": 16,
     "metadata": {},
     "output_type": "execute_result"
    }
   ],
   "source": [
    "timeit.timeit(stmt2,setup2,number = 100000)"
   ]
  },
  {
   "cell_type": "markdown",
   "id": "75e53d9b",
   "metadata": {},
   "source": [
    "# Method 3 - Timeit Cell Method \n",
    "###### Only valid in jupyter"
   ]
  },
  {
   "cell_type": "code",
   "execution_count": 17,
   "id": "e984a361",
   "metadata": {},
   "outputs": [
    {
     "name": "stdout",
     "output_type": "stream",
     "text": [
      "25.2 µs ± 2.29 µs per loop (mean ± std. dev. of 7 runs, 10000 loops each)\n"
     ]
    }
   ],
   "source": [
    "%%timeit\n",
    "func_one(100)"
   ]
  },
  {
   "cell_type": "code",
   "execution_count": 18,
   "id": "054b7758",
   "metadata": {},
   "outputs": [
    {
     "name": "stdout",
     "output_type": "stream",
     "text": [
      "20.6 µs ± 1.09 µs per loop (mean ± std. dev. of 7 runs, 10000 loops each)\n"
     ]
    }
   ],
   "source": [
    "%%timeit\n",
    "func_two(100)"
   ]
  }
 ],
 "metadata": {
  "kernelspec": {
   "display_name": "Python 3 (ipykernel)",
   "language": "python",
   "name": "python3"
  },
  "language_info": {
   "codemirror_mode": {
    "name": "ipython",
    "version": 3
   },
   "file_extension": ".py",
   "mimetype": "text/x-python",
   "name": "python",
   "nbconvert_exporter": "python",
   "pygments_lexer": "ipython3",
   "version": "3.9.7"
  }
 },
 "nbformat": 4,
 "nbformat_minor": 5
}
