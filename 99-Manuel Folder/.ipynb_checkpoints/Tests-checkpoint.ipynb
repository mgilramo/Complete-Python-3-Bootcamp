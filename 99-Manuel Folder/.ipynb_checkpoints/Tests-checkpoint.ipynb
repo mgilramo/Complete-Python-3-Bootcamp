{
 "cells": [
  {
   "cell_type": "code",
   "execution_count": 9,
   "id": "7c71b795",
   "metadata": {},
   "outputs": [],
   "source": [
    "str_var = 'NewwString'"
   ]
  },
  {
   "cell_type": "code",
   "execution_count": 13,
   "id": "6ab379b9",
   "metadata": {
    "scrolled": true
   },
   "outputs": [
    {
     "name": "stdout",
     "output_type": "stream",
     "text": [
      "N 0\n",
      "e 1\n",
      "w 2\n",
      "w 2\n",
      "S 4\n",
      "t 5\n",
      "r 6\n",
      "i 7\n",
      "n 8\n",
      "g 9\n"
     ]
    }
   ],
   "source": [
    "str_list = list(str_var)\n",
    "\n",
    "for letter in str_list:\n",
    "    print(letter + ' ' + str(str_list.index(letter)))"
   ]
  },
  {
   "cell_type": "code",
   "execution_count": 16,
   "id": "da304186",
   "metadata": {},
   "outputs": [
    {
     "name": "stdout",
     "output_type": "stream",
     "text": [
      "Help on built-in function capitalize:\n",
      "\n",
      "capitalize() method of builtins.str instance\n",
      "    Return a capitalized version of the string.\n",
      "    \n",
      "    More specifically, make the first character have upper case and the rest lower\n",
      "    case.\n",
      "\n"
     ]
    }
   ],
   "source": [
    "help(str_var.capitalize)"
   ]
  },
  {
   "cell_type": "code",
   "execution_count": 17,
   "id": "511b302f",
   "metadata": {},
   "outputs": [
    {
     "ename": "TypeError",
     "evalue": "str.capitalize() takes no arguments (1 given)",
     "output_type": "error",
     "traceback": [
      "\u001b[1;31m---------------------------------------------------------------------------\u001b[0m",
      "\u001b[1;31mTypeError\u001b[0m                                 Traceback (most recent call last)",
      "\u001b[1;32m~\\AppData\\Local\\Temp/ipykernel_14852/2340421670.py\u001b[0m in \u001b[0;36m<module>\u001b[1;34m\u001b[0m\n\u001b[1;32m----> 1\u001b[1;33m \u001b[0mstr_var\u001b[0m\u001b[1;33m.\u001b[0m\u001b[0mcapitalize\u001b[0m\u001b[1;33m(\u001b[0m\u001b[1;36m2\u001b[0m\u001b[1;33m)\u001b[0m\u001b[1;33m\u001b[0m\u001b[1;33m\u001b[0m\u001b[0m\n\u001b[0m",
      "\u001b[1;31mTypeError\u001b[0m: str.capitalize() takes no arguments (1 given)"
     ]
    }
   ],
   "source": [
    "str_var.capitalize()"
   ]
  },
  {
   "cell_type": "code",
   "execution_count": 27,
   "id": "85af2ba8",
   "metadata": {},
   "outputs": [],
   "source": [
    "letter_a = '  *  \\n * * \\n*****\\n*   *\\n*   *'"
   ]
  },
  {
   "cell_type": "code",
   "execution_count": 28,
   "id": "be35cc8f",
   "metadata": {},
   "outputs": [
    {
     "name": "stdout",
     "output_type": "stream",
     "text": [
      "  *  \n",
      " * * \n",
      "*****\n",
      "*   *\n",
      "*   *\n"
     ]
    }
   ],
   "source": [
    "print(letter_a)"
   ]
  },
  {
   "cell_type": "code",
   "execution_count": 1,
   "id": "5c9a1340",
   "metadata": {},
   "outputs": [
    {
     "data": {
      "text/plain": [
       "3"
      ]
     },
     "execution_count": 1,
     "metadata": {},
     "output_type": "execute_result"
    }
   ],
   "source": [
    "a = {1,2,3}\n",
    "len(a)"
   ]
  },
  {
   "cell_type": "code",
   "execution_count": 2,
   "id": "089831d9",
   "metadata": {},
   "outputs": [],
   "source": [
    "def display(board):\n",
    "    print('-------------')\n",
    "    print('|', board[0][0], '|', board[0][1], '|', board[0][2], '|')\n",
    "    print('-------------')\n",
    "    print('|', board[1][0], '|', board[1][1], '|', board[1][2], '|')\n",
    "    print('-------------')\n",
    "    print('|', board[2][0], '|', board[2][1], '|', board[2][2], '|')\n",
    "    print('-------------')\n",
    "\n",
    "def initialize_board():\n",
    "    board = [[' ', ' ', ' '],[' ', ' ', ' '],[' ', ' ', ' ']]\n",
    "    return board\n",
    "\n",
    "def board_updateable(board, row, column):\n",
    "    return board[row][column] == ' '\n",
    "\n",
    "def update_board(board, row, column, turn):\n",
    "#     print(f'Before change: {board}')\n",
    "#     print(f'Row: {row} / Column: {column}')\n",
    "    board[row][column] = turn\n",
    "#     print(f'After change: {board}')\n",
    "    return board"
   ]
  },
  {
   "cell_type": "code",
   "execution_count": 3,
   "id": "ac144049",
   "metadata": {},
   "outputs": [
    {
     "name": "stdout",
     "output_type": "stream",
     "text": [
      "-------------\n",
      "|   |   |   |\n",
      "-------------\n",
      "|   |   |   |\n",
      "-------------\n",
      "|   |   |   |\n",
      "-------------\n"
     ]
    }
   ],
   "source": [
    "board = initialize_board()\n",
    "display(board)"
   ]
  },
  {
   "cell_type": "code",
   "execution_count": 4,
   "id": "42c759dd",
   "metadata": {},
   "outputs": [
    {
     "name": "stdout",
     "output_type": "stream",
     "text": [
      "Please indicate the row: 1\n",
      "Please indicate the column: 1\n",
      "Do you want to exit? N\n",
      "-------------\n",
      "|   |   |   |\n",
      "-------------\n",
      "|   | X |   |\n",
      "-------------\n",
      "|   |   |   |\n",
      "-------------\n",
      "Do you want to exit? Y\n"
     ]
    }
   ],
   "source": [
    "row = int(input('Please indicate the row: '))\n",
    "column = int(input('Please indicate the column: '))\n",
    "\n",
    "while ' ' in board[0] or ' ' in board[1] or ' ' in board[2]:\n",
    "\n",
    "    if input('Do you want to exit? ') == 'Y':\n",
    "        break\n",
    "    \n",
    "    while not board_updateable(board, row, column):\n",
    "        print('Incorrect combination of row and column')\n",
    "        row = int(input('Please indicate the row: '))\n",
    "        column = int(input('Please indicate the column: '))\n",
    "\n",
    "    board = update_board(board, row, column, 'X')\n",
    "\n",
    "    display(board)"
   ]
  },
  {
   "cell_type": "code",
   "execution_count": 17,
   "id": "1483f7d5",
   "metadata": {},
   "outputs": [
    {
     "name": "stdout",
     "output_type": "stream",
     "text": [
      "[2, 1]\n"
     ]
    }
   ],
   "source": [
    "player_turn = 2\n",
    "\n",
    "d = {player_turn:'X', 1:'O'}\n",
    "\n",
    "print(list(d.keys()))"
   ]
  },
  {
   "cell_type": "code",
   "execution_count": 9,
   "id": "64daf112",
   "metadata": {},
   "outputs": [
    {
     "name": "stdout",
     "output_type": "stream",
     "text": [
      "X\n"
     ]
    }
   ],
   "source": [
    "player_turn = 2\n",
    "\n",
    "print(d[player_turn])"
   ]
  },
  {
   "cell_type": "code",
   "execution_count": 14,
   "id": "a4397b20",
   "metadata": {},
   "outputs": [
    {
     "data": {
      "text/plain": [
       "2"
      ]
     },
     "execution_count": 14,
     "metadata": {},
     "output_type": "execute_result"
    }
   ],
   "source": [
    "import random\n",
    "random.randint(1,2)"
   ]
  },
  {
   "cell_type": "code",
   "execution_count": 1,
   "id": "9e9b8a55",
   "metadata": {},
   "outputs": [],
   "source": [
    "new_list = [1,2,3]\n",
    "new_tuple = (1,2,3)"
   ]
  },
  {
   "cell_type": "code",
   "execution_count": 2,
   "id": "9980fa19",
   "metadata": {},
   "outputs": [],
   "source": [
    "list1,list2,list3 = new_list"
   ]
  },
  {
   "cell_type": "code",
   "execution_count": 3,
   "id": "02f31a20",
   "metadata": {},
   "outputs": [
    {
     "data": {
      "text/plain": [
       "1"
      ]
     },
     "execution_count": 3,
     "metadata": {},
     "output_type": "execute_result"
    }
   ],
   "source": [
    "list1"
   ]
  },
  {
   "cell_type": "code",
   "execution_count": 4,
   "id": "80219f97",
   "metadata": {},
   "outputs": [],
   "source": [
    "new_new_list = [list1, list2, list3]"
   ]
  },
  {
   "cell_type": "code",
   "execution_count": 5,
   "id": "f8aa84ac",
   "metadata": {},
   "outputs": [
    {
     "data": {
      "text/plain": [
       "True"
      ]
     },
     "execution_count": 5,
     "metadata": {},
     "output_type": "execute_result"
    }
   ],
   "source": [
    "new_new_list == new_list"
   ]
  },
  {
   "cell_type": "code",
   "execution_count": 6,
   "id": "a73a0d4c",
   "metadata": {},
   "outputs": [],
   "source": [
    "tuple1, tuple2, tuple3 = new_tuple"
   ]
  },
  {
   "cell_type": "code",
   "execution_count": 7,
   "id": "27b6aa9d",
   "metadata": {},
   "outputs": [
    {
     "data": {
      "text/plain": [
       "3"
      ]
     },
     "execution_count": 7,
     "metadata": {},
     "output_type": "execute_result"
    }
   ],
   "source": [
    "tuple3"
   ]
  },
  {
   "cell_type": "code",
   "execution_count": null,
   "id": "58aa031d",
   "metadata": {},
   "outputs": [],
   "source": []
  }
 ],
 "metadata": {
  "kernelspec": {
   "display_name": "Python 3 (ipykernel)",
   "language": "python",
   "name": "python3"
  },
  "language_info": {
   "codemirror_mode": {
    "name": "ipython",
    "version": 3
   },
   "file_extension": ".py",
   "mimetype": "text/x-python",
   "name": "python",
   "nbconvert_exporter": "python",
   "pygments_lexer": "ipython3",
   "version": "3.9.7"
  }
 },
 "nbformat": 4,
 "nbformat_minor": 5
}
