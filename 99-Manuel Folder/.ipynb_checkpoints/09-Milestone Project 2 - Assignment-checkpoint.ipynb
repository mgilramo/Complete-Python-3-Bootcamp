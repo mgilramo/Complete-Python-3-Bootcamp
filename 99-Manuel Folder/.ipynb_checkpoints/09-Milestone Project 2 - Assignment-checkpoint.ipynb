{
 "cells": [
  {
   "cell_type": "markdown",
   "metadata": {},
   "source": [
    "___\n",
    "\n",
    "<a href='https://www.udemy.com/user/joseportilla/'><img src='../Pierian_Data_Logo.png'/></a>\n",
    "___\n",
    "<center><em>Content Copyright by Pierian Data</em></center>"
   ]
  },
  {
   "cell_type": "markdown",
   "metadata": {},
   "source": [
    "# Milestone Project 2 - Blackjack Game\n",
    "In this milestone project you will be creating a Complete BlackJack Card Game in Python.\n",
    "\n",
    "Here are the requirements:\n",
    "\n",
    "* You need to create a simple text-based [BlackJack](https://en.wikipedia.org/wiki/Blackjack) game\n",
    "* The game needs to have one player versus an automated dealer.\n",
    "* The player can stand or hit.\n",
    "* The player must be able to pick their betting amount.\n",
    "* You need to keep track of the player's total money.\n",
    "* You need to alert the player of wins, losses, or busts, etc...\n",
    "\n",
    "And most importantly:\n",
    "\n",
    "* **You must use OOP and classes in some portion of your game. You can not just use functions in your game. Use classes to help you define the Deck and the Player's hand. There are many right ways to do this, so explore it well!**\n",
    "\n",
    "\n",
    "Feel free to expand this game. Try including multiple players. Try adding in Double-Down and card splits! Remember to you are free to use any resources you want and as always:\n",
    "\n",
    "# HAVE FUN!"
   ]
  },
  {
   "cell_type": "markdown",
   "metadata": {},
   "source": [
    "# Card Class"
   ]
  },
  {
   "cell_type": "code",
   "execution_count": 1,
   "metadata": {},
   "outputs": [],
   "source": [
    "class Card:\n",
    "    \n",
    "    values = {'Two':2, 'Three':3, 'Four':4, 'Five':5, 'Six':6, 'Seven':7, 'Eight':8,\n",
    "          'Nine':9, 'Ten':10, 'Jack':10, 'Queen':10, 'King':10, 'Ace':11}\n",
    "    \n",
    "    def __init__(self,suit,rank):\n",
    "        self.suit = suit\n",
    "        self.rank = rank\n",
    "        self.value = self.values[self.rank]\n",
    "        \n",
    "    def __str__(self):\n",
    "        return '{} of {}'.format(self.rank,self.suit)"
   ]
  },
  {
   "cell_type": "markdown",
   "metadata": {},
   "source": [
    "# Deck Class"
   ]
  },
  {
   "cell_type": "code",
   "execution_count": 2,
   "metadata": {},
   "outputs": [],
   "source": [
    "import random\n",
    "\n",
    "class Deck:\n",
    "    \n",
    "    suits = ('Hearts', 'Diamonds', 'Spades', 'Clubs')\n",
    "    ranks = (\"Two\", \"Three\", \"Four\", \"Five\", \"Six\", \"Seven\", \"Eight\", \"Nine\", \"Ten\", \"Jack\", \"Queen\", \"King\", \"Ace\")\n",
    "        \n",
    "    def __init__(self):\n",
    "        # The init method already shuffles the deck\n",
    "        self.cards = []\n",
    "        for suit in self.suits:\n",
    "            for rank in self.ranks:\n",
    "                new_card = Card(suit, rank)\n",
    "                self.cards.append(new_card)\n",
    "        \n",
    "        random.shuffle(self.cards)\n",
    "        \n",
    "    def restart_deck(self):\n",
    "        self.__init__()\n",
    "        \n",
    "    def remove_card(self):\n",
    "        return self.cards.pop(0)"
   ]
  },
  {
   "cell_type": "markdown",
   "metadata": {},
   "source": [
    "# Hand Class"
   ]
  },
  {
   "cell_type": "code",
   "execution_count": 3,
   "metadata": {},
   "outputs": [],
   "source": [
    "class Hand:\n",
    "    \n",
    "    def __init__(self):\n",
    "        self.cards = []\n",
    "        \n",
    "    def add_card(self,card):\n",
    "        self.cards.append(card)\n",
    "        \n",
    "    def hand_number(self):\n",
    "        aces = 0\n",
    "        hand_number = 0\n",
    "        for card in self.cards:\n",
    "            hand_number += card.value\n",
    "            if card.rank == 'Ace':\n",
    "                aces += 1\n",
    "                \n",
    "        while hand_number > 21 and aces > 0:\n",
    "            hand_number -= 10\n",
    "            aces -= 1\n",
    "            \n",
    "        return hand_number\n",
    "    \n",
    "    def show_hand(self,hidden):\n",
    "        for_range = len(self.cards)\n",
    "        \n",
    "        if hidden:\n",
    "            for_range -= 1\n",
    "            \n",
    "        for x in range(for_range):\n",
    "            print(self.cards[x])\n",
    "        \n",
    "        if hidden:\n",
    "            print(\"HIDDEN CARD\")\n",
    "            \n",
    "    "
   ]
  },
  {
   "cell_type": "markdown",
   "metadata": {},
   "source": [
    "<!-- # Player Class -->"
   ]
  },
  {
   "cell_type": "markdown",
   "metadata": {},
   "source": [
    "# Player Class"
   ]
  },
  {
   "cell_type": "code",
   "execution_count": 4,
   "metadata": {},
   "outputs": [],
   "source": [
    "class Player:\n",
    "    \n",
    "    def __init__(self, name):\n",
    "        self.name = name\n",
    "        self.money_available = 100\n",
    "    \n",
    "    def remove_money(self,amount):\n",
    "        self.money_available -= amount\n",
    "    \n",
    "    def add_money(self,amount):\n",
    "        self.money_available += amount\n",
    "    \n",
    "    def _str__(self):\n",
    "        return 'Player {} has {}€ available'.format(self.name, self.money_available)"
   ]
  },
  {
   "cell_type": "markdown",
   "metadata": {},
   "source": [
    "# Game"
   ]
  },
  {
   "cell_type": "markdown",
   "metadata": {},
   "source": [
    "### Setup game function"
   ]
  },
  {
   "cell_type": "code",
   "execution_count": 5,
   "metadata": {},
   "outputs": [],
   "source": [
    "def setup_game(player_name):\n",
    "    play_deck = Deck()\n",
    "    player = Player(player_name)\n",
    "    \n",
    "    return play_deck, player"
   ]
  },
  {
   "cell_type": "markdown",
   "metadata": {},
   "source": [
    "### Play again function"
   ]
  },
  {
   "cell_type": "code",
   "execution_count": 6,
   "metadata": {},
   "outputs": [],
   "source": [
    "def play_again(player, play_deck):\n",
    "    play_again = True\n",
    "    if player.money_available == 0:\n",
    "        play_again = False\n",
    "        print(\"Sorry, you don´t have more money to bet, have a nice day\")\n",
    "    else:\n",
    "        # Continue asking to the player until valid input is provided\n",
    "        incorrect_decision = True\n",
    "        while incorrect_decision:\n",
    "            player_playing_decision = input(\"Do you want to continue playing (Y/N)?\")\n",
    "            if player_playing_decision in ['Y', 'N']:\n",
    "                incorrect_decision = False\n",
    "            else:\n",
    "                print(\"Incorrect input, write Y (for continue playing) or N (for exiting)\")\n",
    "        if player_playing_decision == 'Y':\n",
    "            print(\"Let's  play another round\")\n",
    "            play_deck.restart_deck()\n",
    "        else:\n",
    "            play_again = False\n",
    "            print(\"Thanks for playing, have a nice day\")\n",
    "    return play_again"
   ]
  },
  {
   "cell_type": "markdown",
   "metadata": {},
   "source": [
    "### Request bet function"
   ]
  },
  {
   "cell_type": "code",
   "execution_count": 7,
   "metadata": {},
   "outputs": [],
   "source": [
    "def request_bet(player):\n",
    "    # Bet is requested until a valid bet is provided\n",
    "    incorrect_bet = True\n",
    "    while incorrect_bet:\n",
    "        try:\n",
    "            print(f\"Your current balance is {player.money_available}€\")\n",
    "            player_bet = float(input(\"Place your bet: \"))\n",
    "\n",
    "            if player_bet <= 0:\n",
    "                print(\"Incorrect bet, unable to place a bet lower or equal to 0\")\n",
    "            if player_bet > player.money_available:\n",
    "                print(\"Incorrect bet, unable to place a bet higher than your current balance\")\n",
    "            else:\n",
    "                print(\"Thanks for placing your bet\")\n",
    "                incorrect_bet = False\n",
    "        except:\n",
    "            print(\"Incorrect bet, please provide a number between 0 and your current balance\")\n",
    "            \n",
    "    return player_bet"
   ]
  },
  {
   "cell_type": "markdown",
   "metadata": {},
   "source": [
    "### Show hand function"
   ]
  },
  {
   "cell_type": "code",
   "execution_count": 8,
   "metadata": {},
   "outputs": [],
   "source": [
    "def show_hand(hand,hidden,player):\n",
    "    print(\"===========\")\n",
    "    print(f\"{player} Hand\")\n",
    "    print(\"-----------\")\n",
    "    hand.show_hand(hidden)\n",
    "    print(\"===========\\n\")"
   ]
  },
  {
   "cell_type": "markdown",
   "metadata": {},
   "source": [
    "### Results and bets function"
   ]
  },
  {
   "cell_type": "code",
   "execution_count": 9,
   "metadata": {},
   "outputs": [],
   "source": [
    "def results_and_bets(result,player,player_bet):\n",
    "    if result == 'Player':\n",
    "        print(\"Congratulations, you have won!\")\n",
    "        player.add_money(player_bet)\n",
    "        print(f\"New balance: {player.money_available}\")\n",
    "\n",
    "    elif result == 'Dealer':\n",
    "        # Dealer win logic\n",
    "        print(\"You have lost\")\n",
    "        player.remove_money(player_bet)\n",
    "        print(f\"New balance: {player.money_available}\")"
   ]
  },
  {
   "cell_type": "markdown",
   "metadata": {},
   "source": [
    "### Main play function"
   ]
  },
  {
   "cell_type": "code",
   "execution_count": 10,
   "metadata": {},
   "outputs": [],
   "source": [
    "def play():\n",
    "    # Welcome Message\n",
    "    print(\"Welcome to Python Blackjack\")\n",
    "    player_name = input(\"What's your name? \")\n",
    "    print(f\"Welcome {player_name}!\")\n",
    "    \n",
    "    # Setup of the game\n",
    "    play_deck, player = setup_game(player_name)\n",
    "    \n",
    "    # New rounds played unless player wants to stop or no money remains\n",
    "    continue_playing = True\n",
    "    round_num = 0\n",
    "    while continue_playing:\n",
    "        \n",
    "        # Request bet to the player\n",
    "        player_bet = request_bet(player)\n",
    "                \n",
    "        # Get from the deck first 2 cards (player and dealer)\n",
    "        dealer_hand = Hand()\n",
    "        player_hand = Hand()\n",
    "        \n",
    "        dealer_hand.add_card(play_deck.remove_card())\n",
    "        player_hand.add_card(play_deck.remove_card())\n",
    "        dealer_hand.add_card(play_deck.remove_card())\n",
    "        player_hand.add_card(play_deck.remove_card())\n",
    "        \n",
    "        # Show dealer and player hands\n",
    "        show_hand(dealer_hand,True,'Dealer')\n",
    "        show_hand(player_hand,False,'Player')\n",
    "        \n",
    "        # Check whether the player has the perfect score\n",
    "        player_less_21 = player_hand.hand_number() < 21\n",
    "        \n",
    "        # PLAYER'S TURN\n",
    "        # Continue asking the player whether he wants additional cards\n",
    "        while player_less_21:\n",
    "            \n",
    "            # Continue asking to the player until valid input is provided\n",
    "            incorrect_decision = True\n",
    "            while incorrect_decision:\n",
    "                player_decision = input(\"Do you want to Hit (H) or Stay (S)?\")\n",
    "                if player_decision in ['H', 'S']:\n",
    "                    incorrect_decision = False\n",
    "                else:\n",
    "                    print(\"Incorrect input, write H (for receiving an additional card) or S (for staying with current cards)\")\n",
    "            \n",
    "            # Stop adding cards to player hand\n",
    "            if player_decision == 'S':\n",
    "                break\n",
    "            \n",
    "            # Add an additional card to player's hand\n",
    "            elif player_decision == 'H':\n",
    "                new_card = play_deck.remove_card()\n",
    "                print(f\"New card: {new_card}\")\n",
    "                player_hand.add_card(new_card)\n",
    "                \n",
    "                show_hand(player_hand,False,'Player')\n",
    "                \n",
    "                player_less_21 = player_hand.hand_number() < 21\n",
    "        \n",
    "        player_less_22 = player_hand.hand_number() < 22\n",
    "        \n",
    "        # If the player hasn't lost it's dealer turn\n",
    "        if player_less_22:\n",
    "            # Dealer requests new cards if less than 21 and less than player\n",
    "            while dealer_hand.hand_number() < 21 and dealer_hand.hand_number() <= player_hand.hand_number():\n",
    "                new_card = play_deck.remove_card()\n",
    "                print(f\"New card: {new_card}\")\n",
    "                dealer_hand.add_card(new_card)\n",
    "                \n",
    "            show_hand(dealer_hand,False,'Dealer')\n",
    "            \n",
    "            # If the dealer hand is equal or higher than the player and less or equal than 21, dealer won\n",
    "            if dealer_hand.hand_number() >= player_hand.hand_number() and dealer_hand.hand_number() <= 21:\n",
    "                result = 'Dealer'\n",
    "            else:\n",
    "                result = 'Player'\n",
    "            \n",
    "        else:\n",
    "            # The dealer has won if the player has more than 21\n",
    "            result = 'Dealer'\n",
    "        \n",
    "        results_and_bets(result,player,player_bet)\n",
    "            \n",
    "        continue_playing = play_again(player, play_deck)"
   ]
  },
  {
   "cell_type": "code",
   "execution_count": 11,
   "metadata": {},
   "outputs": [
    {
     "name": "stdout",
     "output_type": "stream",
     "text": [
      "Welcome to Python Blackjack\n",
      "What's your name? Manuel\n",
      "Welcome Manuel!\n",
      "Your current balance is 100€\n",
      "Place your bet: 100\n",
      "Thanks for placing your bet\n",
      "===========\n",
      "Dealer Hand\n",
      "-----------\n",
      "Seven of Clubs\n",
      "HIDDEN CARD\n",
      "===========\n",
      "\n",
      "===========\n",
      "Player Hand\n",
      "-----------\n",
      "Seven of Hearts\n",
      "Ace of Clubs\n",
      "===========\n",
      "\n",
      "Do you want to Hit (H) or Stay (S)?S\n",
      "New card: Ten of Spades\n",
      "===========\n",
      "Dealer Hand\n",
      "-----------\n",
      "Seven of Clubs\n",
      "Queen of Diamonds\n",
      "Ten of Spades\n",
      "===========\n",
      "\n",
      "Congratulations, you have won!\n",
      "New balance: 200.0\n",
      "Do you want to continue playing (Y/N)?Y\n",
      "Let's  play another round\n",
      "Your current balance is 200.0€\n",
      "Place your bet: 200\n",
      "Thanks for placing your bet\n",
      "===========\n",
      "Dealer Hand\n",
      "-----------\n",
      "Jack of Hearts\n",
      "HIDDEN CARD\n",
      "===========\n",
      "\n",
      "===========\n",
      "Player Hand\n",
      "-----------\n",
      "Ace of Hearts\n",
      "Ten of Clubs\n",
      "===========\n",
      "\n",
      "New card: Three of Spades\n",
      "===========\n",
      "Dealer Hand\n",
      "-----------\n",
      "Jack of Hearts\n",
      "King of Hearts\n",
      "Three of Spades\n",
      "===========\n",
      "\n",
      "Congratulations, you have won!\n",
      "New balance: 400.0\n",
      "Do you want to continue playing (Y/N)?Y\n",
      "Let's  play another round\n",
      "Your current balance is 400.0€\n",
      "Place your bet: 400\n",
      "Thanks for placing your bet\n",
      "===========\n",
      "Dealer Hand\n",
      "-----------\n",
      "Ten of Hearts\n",
      "HIDDEN CARD\n",
      "===========\n",
      "\n",
      "===========\n",
      "Player Hand\n",
      "-----------\n",
      "Jack of Clubs\n",
      "Nine of Diamonds\n",
      "===========\n",
      "\n",
      "Do you want to Hit (H) or Stay (S)?S\n",
      "New card: Ace of Clubs\n",
      "New card: Eight of Clubs\n",
      "===========\n",
      "Dealer Hand\n",
      "-----------\n",
      "Ten of Hearts\n",
      "Four of Clubs\n",
      "Ace of Clubs\n",
      "Eight of Clubs\n",
      "===========\n",
      "\n",
      "Congratulations, you have won!\n",
      "New balance: 800.0\n",
      "Do you want to continue playing (Y/N)?Y\n",
      "Let's  play another round\n",
      "Your current balance is 800.0€\n",
      "Place your bet: 800\n",
      "Thanks for placing your bet\n",
      "===========\n",
      "Dealer Hand\n",
      "-----------\n",
      "Ten of Spades\n",
      "HIDDEN CARD\n",
      "===========\n",
      "\n",
      "===========\n",
      "Player Hand\n",
      "-----------\n",
      "Eight of Diamonds\n",
      "Six of Hearts\n",
      "===========\n",
      "\n",
      "Do you want to Hit (H) or Stay (S)?S\n",
      "===========\n",
      "Dealer Hand\n",
      "-----------\n",
      "Ten of Spades\n",
      "Nine of Diamonds\n",
      "===========\n",
      "\n",
      "You have lost\n",
      "New balance: 0.0\n",
      "Sorry, you don´t have more money to bet, have a nice day\n"
     ]
    }
   ],
   "source": [
    "play()"
   ]
  },
  {
   "cell_type": "code",
   "execution_count": null,
   "metadata": {},
   "outputs": [],
   "source": []
  }
 ],
 "metadata": {
  "kernelspec": {
   "display_name": "Python 3 (ipykernel)",
   "language": "python",
   "name": "python3"
  },
  "language_info": {
   "codemirror_mode": {
    "name": "ipython",
    "version": 3
   },
   "file_extension": ".py",
   "mimetype": "text/x-python",
   "name": "python",
   "nbconvert_exporter": "python",
   "pygments_lexer": "ipython3",
   "version": "3.9.7"
  }
 },
 "nbformat": 4,
 "nbformat_minor": 1
}
