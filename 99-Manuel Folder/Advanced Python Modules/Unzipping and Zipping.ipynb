{
 "cells": [
  {
   "cell_type": "markdown",
   "id": "8b2d95d9",
   "metadata": {},
   "source": [
    "# zipfile Module"
   ]
  },
  {
   "cell_type": "code",
   "execution_count": 1,
   "id": "2e96d158",
   "metadata": {},
   "outputs": [],
   "source": [
    "with open('file1.txt', 'w') as f:\n",
    "    f.write('ONE FILE')"
   ]
  },
  {
   "cell_type": "code",
   "execution_count": 2,
   "id": "651e73ea",
   "metadata": {},
   "outputs": [],
   "source": [
    "with open('file2.txt', 'w') as f:\n",
    "    f.write('TWO FILE')"
   ]
  },
  {
   "cell_type": "code",
   "execution_count": 3,
   "id": "9a706d4c",
   "metadata": {},
   "outputs": [],
   "source": [
    "import zipfile"
   ]
  },
  {
   "cell_type": "code",
   "execution_count": 4,
   "id": "0f91833d",
   "metadata": {},
   "outputs": [],
   "source": [
    "comp_file = zipfile.ZipFile('comp_file.zip', 'w')"
   ]
  },
  {
   "cell_type": "code",
   "execution_count": 5,
   "id": "75007cbc",
   "metadata": {},
   "outputs": [],
   "source": [
    "comp_file.write('file1.txt', compress_type=zipfile.ZIP_DEFLATED)"
   ]
  },
  {
   "cell_type": "code",
   "execution_count": 6,
   "id": "e43f4187",
   "metadata": {},
   "outputs": [],
   "source": [
    "comp_file.write('file2.txt', compress_type=zipfile.ZIP_DEFLATED)"
   ]
  },
  {
   "cell_type": "code",
   "execution_count": 7,
   "id": "6159c53c",
   "metadata": {},
   "outputs": [],
   "source": [
    "comp_file.close()"
   ]
  },
  {
   "cell_type": "code",
   "execution_count": 8,
   "id": "6e12febb",
   "metadata": {},
   "outputs": [],
   "source": [
    "with zipfile.ZipFile('comp_file.zip', 'r') as zip_obj:\n",
    "    zip_obj.extractall('extracted_content')"
   ]
  },
  {
   "cell_type": "markdown",
   "id": "33b33607",
   "metadata": {},
   "source": [
    "# shutil Module"
   ]
  },
  {
   "cell_type": "code",
   "execution_count": 9,
   "id": "f67fac80",
   "metadata": {},
   "outputs": [],
   "source": [
    "import shutil"
   ]
  },
  {
   "cell_type": "code",
   "execution_count": 16,
   "id": "86ea3a6c",
   "metadata": {},
   "outputs": [],
   "source": [
    "dir_to_zip = 'C:\\\\Users\\\\mgilramo\\\\OneDrive - everis\\\\Everis\\\\Complete-Python-3-Bootcamp\\\\99-Manuel Folder\\\\Advanced Python Modules\\\\extracted_content'"
   ]
  },
  {
   "cell_type": "code",
   "execution_count": 17,
   "id": "c35dbb6f",
   "metadata": {},
   "outputs": [],
   "source": [
    "output_filename = 'example'"
   ]
  },
  {
   "cell_type": "code",
   "execution_count": 18,
   "id": "54096db4",
   "metadata": {},
   "outputs": [
    {
     "data": {
      "text/plain": [
       "'C:\\\\Users\\\\mgilramo\\\\OneDrive - everis\\\\Everis\\\\Complete-Python-3-Bootcamp\\\\99-Manuel Folder\\\\Advanced Python Modules\\\\example.zip'"
      ]
     },
     "execution_count": 18,
     "metadata": {},
     "output_type": "execute_result"
    }
   ],
   "source": [
    "shutil.make_archive(output_filename, 'zip', dir_to_zip)"
   ]
  },
  {
   "cell_type": "code",
   "execution_count": 19,
   "id": "c3a8e076",
   "metadata": {},
   "outputs": [],
   "source": [
    "shutil.unpack_archive('example.zip', 'final_unzip', 'zip')"
   ]
  },
  {
   "cell_type": "code",
   "execution_count": null,
   "id": "dc165a7c",
   "metadata": {},
   "outputs": [],
   "source": []
  }
 ],
 "metadata": {
  "kernelspec": {
   "display_name": "Python 3 (ipykernel)",
   "language": "python",
   "name": "python3"
  },
  "language_info": {
   "codemirror_mode": {
    "name": "ipython",
    "version": 3
   },
   "file_extension": ".py",
   "mimetype": "text/x-python",
   "name": "python",
   "nbconvert_exporter": "python",
   "pygments_lexer": "ipython3",
   "version": "3.9.7"
  }
 },
 "nbformat": 4,
 "nbformat_minor": 5
}
