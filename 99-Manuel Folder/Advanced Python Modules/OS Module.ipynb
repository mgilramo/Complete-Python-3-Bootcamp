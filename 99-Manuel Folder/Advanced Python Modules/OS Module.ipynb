{
 "cells": [
  {
   "cell_type": "code",
   "execution_count": 1,
   "id": "eeb5a492",
   "metadata": {},
   "outputs": [
    {
     "data": {
      "text/plain": [
       "'C:\\\\Users\\\\mgilramo\\\\OneDrive - everis\\\\Everis\\\\Complete-Python-3-Bootcamp\\\\99-Manuel Folder'"
      ]
     },
     "execution_count": 1,
     "metadata": {},
     "output_type": "execute_result"
    }
   ],
   "source": [
    "pwd"
   ]
  },
  {
   "cell_type": "code",
   "execution_count": 3,
   "id": "0c24dd7d",
   "metadata": {},
   "outputs": [],
   "source": [
    "with open('practice.txt','w') as f:\n",
    "    f.write('This is a test string')"
   ]
  },
  {
   "cell_type": "code",
   "execution_count": 4,
   "id": "3a08999f",
   "metadata": {},
   "outputs": [],
   "source": [
    "import os"
   ]
  },
  {
   "cell_type": "code",
   "execution_count": 5,
   "id": "9a5cf288",
   "metadata": {},
   "outputs": [
    {
     "data": {
      "text/plain": [
       "'C:\\\\Users\\\\mgilramo\\\\OneDrive - everis\\\\Everis\\\\Complete-Python-3-Bootcamp\\\\99-Manuel Folder'"
      ]
     },
     "execution_count": 5,
     "metadata": {},
     "output_type": "execute_result"
    }
   ],
   "source": [
    "os.getcwd() # Same as pwd"
   ]
  },
  {
   "cell_type": "code",
   "execution_count": 45,
   "id": "808711f9",
   "metadata": {},
   "outputs": [
    {
     "data": {
      "text/plain": [
       "['.ipynb_checkpoints',\n",
       " '01_Objects and Data Structure Assessment.ipynb',\n",
       " '02_Statements Assessment.ipynb',\n",
       " '03_Function Practice Exercises.ipynb',\n",
       " '04-Functions and Methods Homework.ipynb',\n",
       " '05-Milestone Project 1 - Walkthrough.ipynb',\n",
       " '06-Object Oriented Programming Homework.ipynb',\n",
       " '07-OOP Challenge.ipynb',\n",
       " '08-Errors and Exceptions Homework.ipynb',\n",
       " '09-Milestone Project 2 - Assignment.ipynb',\n",
       " '10-Iterators and Generators Homework.ipynb',\n",
       " 'Assigning Variables.ipynb',\n",
       " 'Booleans.ipynb',\n",
       " 'Collections Module.ipynb',\n",
       " 'Decorators.ipynb',\n",
       " 'Dictionaries.ipynb',\n",
       " 'Exceptions & Error Handling.ipynb',\n",
       " 'Generators.ipynb',\n",
       " 'Input_And_Output.ipynb',\n",
       " 'Lambda Expressions, Map and Filter.ipynb',\n",
       " 'lets_create_a_new_file.txt',\n",
       " 'Lists.ipynb',\n",
       " 'Logical Operators.ipynb',\n",
       " 'Methods and Functions.ipynb',\n",
       " 'Milestone Project 1 Prep.ipynb',\n",
       " 'Milestone Project 2 Prep.ipynb',\n",
       " 'Modules and Packages',\n",
       " 'myfile.txt',\n",
       " 'my_new_file.txt',\n",
       " 'Nested Statements and Scope.ipynb',\n",
       " 'Numbers.ipynb',\n",
       " 'Object Oriented Programming (OOP).ipynb',\n",
       " 'Objects.ipynb',\n",
       " 'OS Module.ipynb',\n",
       " 'practice.txt',\n",
       " 'Pylint and Unittest',\n",
       " 'Sets.ipynb',\n",
       " 'Statements.ipynb',\n",
       " 'Strings.ipynb',\n",
       " 'test.txt',\n",
       " 'testfile',\n",
       " 'Tests.ipynb',\n",
       " 'Tuples.ipynb']"
      ]
     },
     "execution_count": 45,
     "metadata": {},
     "output_type": "execute_result"
    }
   ],
   "source": [
    "os.listdir()"
   ]
  },
  {
   "cell_type": "code",
   "execution_count": 9,
   "id": "3fd1b322",
   "metadata": {},
   "outputs": [
    {
     "data": {
      "text/plain": [
       "['Administrador',\n",
       " 'All Users',\n",
       " 'Default',\n",
       " 'Default User',\n",
       " 'defaultuser0',\n",
       " 'desktop.ini',\n",
       " 'mgilramo',\n",
       " 'Public']"
      ]
     },
     "execution_count": 9,
     "metadata": {},
     "output_type": "execute_result"
    }
   ],
   "source": [
    "os.listdir('C:\\\\Users')"
   ]
  },
  {
   "cell_type": "code",
   "execution_count": 10,
   "id": "feb1aee7",
   "metadata": {},
   "outputs": [],
   "source": [
    "import shutil"
   ]
  },
  {
   "cell_type": "code",
   "execution_count": 43,
   "id": "7c578be7",
   "metadata": {},
   "outputs": [
    {
     "data": {
      "text/plain": [
       "'C:\\\\Users\\\\mgilramo\\\\practice.txt'"
      ]
     },
     "execution_count": 43,
     "metadata": {},
     "output_type": "execute_result"
    }
   ],
   "source": [
    "shutil.move('C:\\\\Users\\\\mgilramo\\\\OneDrive - everis\\\\Everis\\\\Complete-Python-3-Bootcamp\\\\99-Manuel Folder\\\\practice.txt',\n",
    "            'C:\\\\Users\\\\mgilramo')"
   ]
  },
  {
   "cell_type": "code",
   "execution_count": 16,
   "id": "dc369d26",
   "metadata": {},
   "outputs": [
    {
     "data": {
      "text/plain": [
       "'C:\\\\Users\\\\mgilramo\\\\practice.txt'"
      ]
     },
     "execution_count": 16,
     "metadata": {},
     "output_type": "execute_result"
    }
   ],
   "source": [
    "# Above statement is the same as\n",
    "\n",
    "shutil.move('practice.txt',\n",
    "            'C:\\\\Users\\\\mgilramo')"
   ]
  },
  {
   "cell_type": "code",
   "execution_count": 40,
   "id": "7f019f89",
   "metadata": {},
   "outputs": [
    {
     "data": {
      "text/plain": [
       "'C:\\\\Users\\\\mgilramo\\\\OneDrive - everis\\\\Everis\\\\Complete-Python-3-Bootcamp\\\\99-Manuel Folder\\\\practice.txt'"
      ]
     },
     "execution_count": 40,
     "metadata": {},
     "output_type": "execute_result"
    }
   ],
   "source": [
    "shutil.move('C:\\\\Users\\\\mgilramo\\\\practice.txt',\n",
    "            'C:\\\\Users\\\\mgilramo\\\\OneDrive - everis\\\\Everis\\\\Complete-Python-3-Bootcamp\\\\99-Manuel Folder')"
   ]
  },
  {
   "cell_type": "code",
   "execution_count": 44,
   "id": "cf96da06",
   "metadata": {},
   "outputs": [
    {
     "data": {
      "text/plain": [
       "'C:\\\\Users\\\\mgilramo\\\\OneDrive - everis\\\\Everis\\\\Complete-Python-3-Bootcamp\\\\99-Manuel Folder\\\\practice.txt'"
      ]
     },
     "execution_count": 44,
     "metadata": {},
     "output_type": "execute_result"
    }
   ],
   "source": [
    "# Above statement is the same as\n",
    "\n",
    "shutil.move('C:\\\\Users\\\\mgilramo\\\\practice.txt', os.getcwd())"
   ]
  },
  {
   "cell_type": "code",
   "execution_count": 36,
   "id": "4e13c814",
   "metadata": {},
   "outputs": [
    {
     "name": "stdout",
     "output_type": "stream",
     "text": [
      "['practice.txt']\n"
     ]
    }
   ],
   "source": [
    "search_list = os.listdir('C:\\\\Users\\\\mgilramo')\n",
    "result_search = filter(lambda x : x[0:2].lower() == 'pr',search_list)\n",
    "print(list(result_search))"
   ]
  },
  {
   "cell_type": "code",
   "execution_count": 38,
   "id": "32e1c7e0",
   "metadata": {},
   "outputs": [
    {
     "name": "stdout",
     "output_type": "stream",
     "text": [
      "['ntuser.dat.LOG1', 'ntuser.dat.LOG2']\n"
     ]
    }
   ],
   "source": [
    "new_search = os.listdir('C:\\\\Users\\\\mgilramo')\n",
    "result_search = filter(lambda x : x[0:14].lower() == 'ntuser.dat.log',new_search)\n",
    "print(list(result_search))"
   ]
  },
  {
   "cell_type": "code",
   "execution_count": 39,
   "id": "ae6a68a4",
   "metadata": {},
   "outputs": [],
   "source": [
    "# Following statements are used for removing files, directories and tree directories\n",
    "# However, since the files can't be recovered, send2trash module will be used\n",
    "\n",
    "# os.unlink(path) -> Removes the file in the path\n",
    "# os.rmdir(path) -> Removes the directory only if it's empty\n",
    "# shutil.rmtree(path) -> Removes the directory, including all files and diretories within it (it doesn't need to be empty)\n",
    "\n",
    "import send2trash"
   ]
  },
  {
   "cell_type": "code",
   "execution_count": 46,
   "id": "fe47eae1",
   "metadata": {},
   "outputs": [
    {
     "data": {
      "text/plain": [
       "['.ipynb_checkpoints',\n",
       " '01_Objects and Data Structure Assessment.ipynb',\n",
       " '02_Statements Assessment.ipynb',\n",
       " '03_Function Practice Exercises.ipynb',\n",
       " '04-Functions and Methods Homework.ipynb',\n",
       " '05-Milestone Project 1 - Walkthrough.ipynb',\n",
       " '06-Object Oriented Programming Homework.ipynb',\n",
       " '07-OOP Challenge.ipynb',\n",
       " '08-Errors and Exceptions Homework.ipynb',\n",
       " '09-Milestone Project 2 - Assignment.ipynb',\n",
       " '10-Iterators and Generators Homework.ipynb',\n",
       " 'Assigning Variables.ipynb',\n",
       " 'Booleans.ipynb',\n",
       " 'Collections Module.ipynb',\n",
       " 'Decorators.ipynb',\n",
       " 'Dictionaries.ipynb',\n",
       " 'Exceptions & Error Handling.ipynb',\n",
       " 'Generators.ipynb',\n",
       " 'Input_And_Output.ipynb',\n",
       " 'Lambda Expressions, Map and Filter.ipynb',\n",
       " 'lets_create_a_new_file.txt',\n",
       " 'Lists.ipynb',\n",
       " 'Logical Operators.ipynb',\n",
       " 'Methods and Functions.ipynb',\n",
       " 'Milestone Project 1 Prep.ipynb',\n",
       " 'Milestone Project 2 Prep.ipynb',\n",
       " 'Modules and Packages',\n",
       " 'myfile.txt',\n",
       " 'my_new_file.txt',\n",
       " 'Nested Statements and Scope.ipynb',\n",
       " 'Numbers.ipynb',\n",
       " 'Object Oriented Programming (OOP).ipynb',\n",
       " 'Objects.ipynb',\n",
       " 'OS Module.ipynb',\n",
       " 'practice.txt',\n",
       " 'Pylint and Unittest',\n",
       " 'Sets.ipynb',\n",
       " 'Statements.ipynb',\n",
       " 'Strings.ipynb',\n",
       " 'test.txt',\n",
       " 'testfile',\n",
       " 'Tests.ipynb',\n",
       " 'Tuples.ipynb']"
      ]
     },
     "execution_count": 46,
     "metadata": {},
     "output_type": "execute_result"
    }
   ],
   "source": [
    "os.listdir()"
   ]
  },
  {
   "cell_type": "code",
   "execution_count": 47,
   "id": "d57d51e8",
   "metadata": {},
   "outputs": [],
   "source": [
    "send2trash.send2trash('practice.txt')"
   ]
  },
  {
   "cell_type": "code",
   "execution_count": 48,
   "id": "44e6fcd1",
   "metadata": {},
   "outputs": [
    {
     "data": {
      "text/plain": [
       "['.ipynb_checkpoints',\n",
       " '01_Objects and Data Structure Assessment.ipynb',\n",
       " '02_Statements Assessment.ipynb',\n",
       " '03_Function Practice Exercises.ipynb',\n",
       " '04-Functions and Methods Homework.ipynb',\n",
       " '05-Milestone Project 1 - Walkthrough.ipynb',\n",
       " '06-Object Oriented Programming Homework.ipynb',\n",
       " '07-OOP Challenge.ipynb',\n",
       " '08-Errors and Exceptions Homework.ipynb',\n",
       " '09-Milestone Project 2 - Assignment.ipynb',\n",
       " '10-Iterators and Generators Homework.ipynb',\n",
       " 'Assigning Variables.ipynb',\n",
       " 'Booleans.ipynb',\n",
       " 'Collections Module.ipynb',\n",
       " 'Decorators.ipynb',\n",
       " 'Dictionaries.ipynb',\n",
       " 'Exceptions & Error Handling.ipynb',\n",
       " 'Generators.ipynb',\n",
       " 'Input_And_Output.ipynb',\n",
       " 'Lambda Expressions, Map and Filter.ipynb',\n",
       " 'lets_create_a_new_file.txt',\n",
       " 'Lists.ipynb',\n",
       " 'Logical Operators.ipynb',\n",
       " 'Methods and Functions.ipynb',\n",
       " 'Milestone Project 1 Prep.ipynb',\n",
       " 'Milestone Project 2 Prep.ipynb',\n",
       " 'Modules and Packages',\n",
       " 'myfile.txt',\n",
       " 'my_new_file.txt',\n",
       " 'Nested Statements and Scope.ipynb',\n",
       " 'Numbers.ipynb',\n",
       " 'Object Oriented Programming (OOP).ipynb',\n",
       " 'Objects.ipynb',\n",
       " 'OS Module.ipynb',\n",
       " 'Pylint and Unittest',\n",
       " 'Sets.ipynb',\n",
       " 'Statements.ipynb',\n",
       " 'Strings.ipynb',\n",
       " 'test.txt',\n",
       " 'testfile',\n",
       " 'Tests.ipynb',\n",
       " 'Tuples.ipynb']"
      ]
     },
     "execution_count": 48,
     "metadata": {},
     "output_type": "execute_result"
    }
   ],
   "source": [
    "os.listdir()"
   ]
  },
  {
   "cell_type": "code",
   "execution_count": 50,
   "id": "507fa8bf",
   "metadata": {},
   "outputs": [],
   "source": [
    "file_path = 'C:\\\\Users\\\\mgilramo\\\\OneDrive - everis\\\\Everis\\\\Complete-Python-3-Bootcamp\\\\12-Advanced Python Modules\\\\Example_Top_Level\\\\'"
   ]
  },
  {
   "cell_type": "code",
   "execution_count": 53,
   "id": "7f6b84e0",
   "metadata": {},
   "outputs": [
    {
     "name": "stdout",
     "output_type": "stream",
     "text": [
      "Currently looking at C:\\Users\\mgilramo\\OneDrive - everis\\Everis\\Complete-Python-3-Bootcamp\\12-Advanced Python Modules\\Example_Top_Level\\\n",
      "\n",
      "\n",
      "The subfolders are:\n",
      "\tSubfolder: Mid-Example-One\n",
      "\n",
      "\n",
      "The files are:\n",
      "\tFile: Mid-Example.txt\n",
      "\n",
      "\n",
      "Currently looking at C:\\Users\\mgilramo\\OneDrive - everis\\Everis\\Complete-Python-3-Bootcamp\\12-Advanced Python Modules\\Example_Top_Level\\Mid-Example-One\n",
      "\n",
      "\n",
      "The subfolders are:\n",
      "\tSubfolder: Bottom-Level-One\n",
      "\tSubfolder: Bottom-Level-Two\n",
      "\n",
      "\n",
      "The files are:\n",
      "\tFile: Mid-Level-Doc.txt\n",
      "\n",
      "\n",
      "Currently looking at C:\\Users\\mgilramo\\OneDrive - everis\\Everis\\Complete-Python-3-Bootcamp\\12-Advanced Python Modules\\Example_Top_Level\\Mid-Example-One\\Bottom-Level-One\n",
      "\n",
      "\n",
      "The subfolders are:\n",
      "\n",
      "\n",
      "The files are:\n",
      "\tFile: One_Text.txt\n",
      "\n",
      "\n",
      "Currently looking at C:\\Users\\mgilramo\\OneDrive - everis\\Everis\\Complete-Python-3-Bootcamp\\12-Advanced Python Modules\\Example_Top_Level\\Mid-Example-One\\Bottom-Level-Two\n",
      "\n",
      "\n",
      "The subfolders are:\n",
      "\n",
      "\n",
      "The files are:\n",
      "\tFile: Bottom-Text-Two.txt\n",
      "\n",
      "\n"
     ]
    }
   ],
   "source": [
    "for folder, subfolders, files in os.walk(file_path):\n",
    "    \n",
    "    print('Currently looking at {}'.format(folder))\n",
    "    print('\\n')\n",
    "    print('The subfolders are:')\n",
    "    for subfolder in subfolders:\n",
    "        print(f'\\tSubfolder: {subfolder}')\n",
    "    \n",
    "    print('\\n')\n",
    "    print('The files are:')\n",
    "    for file in files:\n",
    "        print(f'\\tFile: {file}')\n",
    "    print('\\n')"
   ]
  },
  {
   "cell_type": "code",
   "execution_count": 87,
   "id": "e4ce521b",
   "metadata": {},
   "outputs": [],
   "source": [
    "def find_file(parent_path,file_name,file_extension):\n",
    "    to_return = []\n",
    "    file_to_find = file_name + '.' + file_extension\n",
    "    for folder, subfolders, files in os.walk(parent_path):\n",
    "        for file in files:\n",
    "            if file == file_to_find:\n",
    "                if folder[-1] == '\\\\':\n",
    "                    to_return.append(folder+file)\n",
    "                else:\n",
    "                    to_return.append(folder+'\\\\'+file)\n",
    "    return to_return"
   ]
  },
  {
   "cell_type": "code",
   "execution_count": 89,
   "id": "c24caac9",
   "metadata": {},
   "outputs": [
    {
     "data": {
      "text/plain": [
       "['C:\\\\Users\\\\mgilramo\\\\OneDrive - everis\\\\Everis\\\\Complete-Python-3-Bootcamp\\\\99-Manuel Folder\\\\Walk Test\\\\2010.txt',\n",
       " 'C:\\\\Users\\\\mgilramo\\\\OneDrive - everis\\\\Everis\\\\Complete-Python-3-Bootcamp\\\\99-Manuel Folder\\\\Walk Test\\\\More Info\\\\2010.txt',\n",
       " 'C:\\\\Users\\\\mgilramo\\\\OneDrive - everis\\\\Everis\\\\Complete-Python-3-Bootcamp\\\\99-Manuel Folder\\\\Walk Test\\\\More Info\\\\Even More Info\\\\2010.txt']"
      ]
     },
     "execution_count": 89,
     "metadata": {},
     "output_type": "execute_result"
    }
   ],
   "source": [
    "path = 'C:\\\\Users\\\\mgilramo\\\\OneDrive - everis\\\\Everis\\\\Complete-Python-3-Bootcamp\\\\99-Manuel Folder\\\\Walk Test\\\\'\n",
    "file_name = '2010'\n",
    "file_extension = 'txt'\n",
    "\n",
    "find_file(path,file_name,file_extension)"
   ]
  },
  {
   "cell_type": "code",
   "execution_count": null,
   "id": "530b5195",
   "metadata": {},
   "outputs": [],
   "source": []
  }
 ],
 "metadata": {
  "kernelspec": {
   "display_name": "Python 3 (ipykernel)",
   "language": "python",
   "name": "python3"
  },
  "language_info": {
   "codemirror_mode": {
    "name": "ipython",
    "version": 3
   },
   "file_extension": ".py",
   "mimetype": "text/x-python",
   "name": "python",
   "nbconvert_exporter": "python",
   "pygments_lexer": "ipython3",
   "version": "3.9.7"
  }
 },
 "nbformat": 4,
 "nbformat_minor": 5
}
