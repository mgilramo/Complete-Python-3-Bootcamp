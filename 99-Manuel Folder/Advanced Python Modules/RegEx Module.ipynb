{
 "cells": [
  {
   "cell_type": "code",
   "execution_count": 1,
   "id": "f7476d8d",
   "metadata": {},
   "outputs": [],
   "source": [
    "import re"
   ]
  },
  {
   "cell_type": "code",
   "execution_count": 44,
   "id": "6d56e92d",
   "metadata": {},
   "outputs": [
    {
     "name": "stdout",
     "output_type": "stream",
     "text": [
      "<callable_iterator object at 0x000002898CD67910>\n",
      "(555)-666-5555\n",
      "666\n",
      "5555\n"
     ]
    }
   ],
   "source": [
    "pattern = r'\\(\\d{3}\\)-(\\d{3})-(\\d{4})'\n",
    "\n",
    "search_text = 'My telephone number is (555)-666-5555'\n",
    "\n",
    "found_iter = re.finditer(pattern,search_text)\n",
    "\n",
    "print(found_iter)\n",
    "for match in found_iter:\n",
    "    print(match.group(0))\n",
    "    print(match.group(1))\n",
    "    print(match.group(2))"
   ]
  },
  {
   "cell_type": "code",
   "execution_count": 18,
   "id": "f9c9f40a",
   "metadata": {},
   "outputs": [],
   "source": [
    "simple_text = 'I am a simple text'\n",
    "pattern1 = 'simple'\n",
    "patter2 = 'notsimple'"
   ]
  },
  {
   "cell_type": "code",
   "execution_count": 22,
   "id": "40e94fa3",
   "metadata": {},
   "outputs": [],
   "source": [
    "match1 = re.search(pattern1,simple_text)"
   ]
  },
  {
   "cell_type": "code",
   "execution_count": 23,
   "id": "a3b1f01b",
   "metadata": {},
   "outputs": [],
   "source": [
    "match2 = re.search(patter2,simple_text)"
   ]
  },
  {
   "cell_type": "code",
   "execution_count": 25,
   "id": "aa5d8c0f",
   "metadata": {},
   "outputs": [
    {
     "data": {
      "text/plain": [
       "<re.Match object; span=(7, 13), match='simple'>"
      ]
     },
     "execution_count": 25,
     "metadata": {},
     "output_type": "execute_result"
    }
   ],
   "source": [
    "match1"
   ]
  },
  {
   "cell_type": "code",
   "execution_count": 26,
   "id": "fc34c614",
   "metadata": {},
   "outputs": [],
   "source": [
    "match2"
   ]
  },
  {
   "cell_type": "code",
   "execution_count": 27,
   "id": "65fda7eb",
   "metadata": {},
   "outputs": [
    {
     "name": "stdout",
     "output_type": "stream",
     "text": [
      "<re.Match object; span=(7, 13), match='simple'>\n",
      "None\n"
     ]
    }
   ],
   "source": [
    "print(match1)\n",
    "print(match2)"
   ]
  },
  {
   "cell_type": "code",
   "execution_count": 28,
   "id": "bc3a056b",
   "metadata": {},
   "outputs": [
    {
     "data": {
      "text/plain": [
       "(7, 13)"
      ]
     },
     "execution_count": 28,
     "metadata": {},
     "output_type": "execute_result"
    }
   ],
   "source": [
    "match1.span()"
   ]
  },
  {
   "cell_type": "code",
   "execution_count": 29,
   "id": "883f5dc3",
   "metadata": {},
   "outputs": [
    {
     "data": {
      "text/plain": [
       "7"
      ]
     },
     "execution_count": 29,
     "metadata": {},
     "output_type": "execute_result"
    }
   ],
   "source": [
    "match1.start()"
   ]
  },
  {
   "cell_type": "code",
   "execution_count": 30,
   "id": "96c9ccc1",
   "metadata": {},
   "outputs": [
    {
     "data": {
      "text/plain": [
       "13"
      ]
     },
     "execution_count": 30,
     "metadata": {},
     "output_type": "execute_result"
    }
   ],
   "source": [
    "match1.end()"
   ]
  },
  {
   "cell_type": "code",
   "execution_count": 31,
   "id": "e1d1dedd",
   "metadata": {},
   "outputs": [
    {
     "name": "stdout",
     "output_type": "stream",
     "text": [
      "<re.Match object; span=(0, 3), match='one'>\n"
     ]
    }
   ],
   "source": [
    "# The search method only finds the first ocurrence of the pattern\n",
    "mult_text = 'one one and again one'\n",
    "mult_pattern = 'one'\n",
    "mult_match = re.search(mult_pattern, mult_text)\n",
    "\n",
    "print(mult_match)"
   ]
  },
  {
   "cell_type": "code",
   "execution_count": 32,
   "id": "f1c791a7",
   "metadata": {},
   "outputs": [],
   "source": [
    "# In order to find all matches, findall method needs to be used\n",
    "mult_matches = re.findall(mult_pattern, mult_text)"
   ]
  },
  {
   "cell_type": "code",
   "execution_count": 34,
   "id": "27ec7937",
   "metadata": {},
   "outputs": [
    {
     "name": "stdout",
     "output_type": "stream",
     "text": [
      "<class 'list'>\n"
     ]
    }
   ],
   "source": [
    "print(type(mult_matches))"
   ]
  },
  {
   "cell_type": "code",
   "execution_count": 35,
   "id": "e4f88682",
   "metadata": {},
   "outputs": [
    {
     "name": "stdout",
     "output_type": "stream",
     "text": [
      "['one', 'one', 'one']\n"
     ]
    }
   ],
   "source": [
    "print(mult_matches)"
   ]
  },
  {
   "cell_type": "code",
   "execution_count": 36,
   "id": "a813d4c6",
   "metadata": {},
   "outputs": [],
   "source": [
    "# Another method that can be used is the finditer\n",
    "# Which, instead of a list, it will return an iter object\n",
    "mult_matches_iter = re.finditer(mult_pattern, mult_text)"
   ]
  },
  {
   "cell_type": "code",
   "execution_count": 37,
   "id": "4628ec49",
   "metadata": {},
   "outputs": [
    {
     "name": "stdout",
     "output_type": "stream",
     "text": [
      "<callable_iterator object at 0x000002898CD11BE0>\n"
     ]
    }
   ],
   "source": [
    "print(mult_matches_iter)"
   ]
  },
  {
   "cell_type": "code",
   "execution_count": 38,
   "id": "fff13a45",
   "metadata": {},
   "outputs": [
    {
     "name": "stdout",
     "output_type": "stream",
     "text": [
      "<class 'callable_iterator'>\n"
     ]
    }
   ],
   "source": [
    "print(type(mult_matches_iter))"
   ]
  },
  {
   "cell_type": "code",
   "execution_count": 39,
   "id": "5051a9ad",
   "metadata": {},
   "outputs": [
    {
     "name": "stdout",
     "output_type": "stream",
     "text": [
      "[<re.Match object; span=(0, 3), match='one'>, <re.Match object; span=(4, 7), match='one'>, <re.Match object; span=(18, 21), match='one'>]\n"
     ]
    }
   ],
   "source": [
    "print(list(mult_matches_iter))"
   ]
  },
  {
   "cell_type": "code",
   "execution_count": 45,
   "id": "4e0f941c",
   "metadata": {},
   "outputs": [],
   "source": [
    "example_text = 'My phone number is 93 580 34 65'"
   ]
  },
  {
   "cell_type": "code",
   "execution_count": 62,
   "id": "529f9ec9",
   "metadata": {},
   "outputs": [],
   "source": [
    "example_pattern = r'(\\d{2})\\s(\\d{3})\\s(\\d{2})\\s(\\d{2})'"
   ]
  },
  {
   "cell_type": "code",
   "execution_count": 63,
   "id": "38fe80dc",
   "metadata": {},
   "outputs": [],
   "source": [
    "example_pattern_compile = re.compile(example_pattern)"
   ]
  },
  {
   "cell_type": "code",
   "execution_count": 72,
   "id": "c47c2893",
   "metadata": {},
   "outputs": [],
   "source": [
    "iter_result_compile = example_pattern_compile.search(example_text)"
   ]
  },
  {
   "cell_type": "code",
   "execution_count": 73,
   "id": "d5aa28ba",
   "metadata": {},
   "outputs": [],
   "source": [
    "iter_result = re.search(example_pattern, example_text)"
   ]
  },
  {
   "cell_type": "code",
   "execution_count": 79,
   "id": "7abbbbf2",
   "metadata": {},
   "outputs": [
    {
     "data": {
      "text/plain": [
       "'65'"
      ]
     },
     "execution_count": 79,
     "metadata": {},
     "output_type": "execute_result"
    }
   ],
   "source": [
    "iter_result_compile.group(4)"
   ]
  },
  {
   "cell_type": "code",
   "execution_count": 75,
   "id": "752f60e9",
   "metadata": {},
   "outputs": [
    {
     "data": {
      "text/plain": [
       "<re.Match object; span=(19, 31), match='93 580 34 65'>"
      ]
     },
     "execution_count": 75,
     "metadata": {},
     "output_type": "execute_result"
    }
   ],
   "source": [
    "iter_result"
   ]
  },
  {
   "cell_type": "code",
   "execution_count": null,
   "id": "efbf46d3",
   "metadata": {},
   "outputs": [],
   "source": []
  }
 ],
 "metadata": {
  "kernelspec": {
   "display_name": "Python 3 (ipykernel)",
   "language": "python",
   "name": "python3"
  },
  "language_info": {
   "codemirror_mode": {
    "name": "ipython",
    "version": 3
   },
   "file_extension": ".py",
   "mimetype": "text/x-python",
   "name": "python",
   "nbconvert_exporter": "python",
   "pygments_lexer": "ipython3",
   "version": "3.9.7"
  }
 },
 "nbformat": 4,
 "nbformat_minor": 5
}
