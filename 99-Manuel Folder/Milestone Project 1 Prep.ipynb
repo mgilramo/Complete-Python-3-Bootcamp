{
 "cells": [
  {
   "cell_type": "code",
   "execution_count": 1,
   "id": "cb1cb026",
   "metadata": {},
   "outputs": [],
   "source": [
    "def display(board):\n",
    "    print('-------------')\n",
    "    print('|', board[0][0], '|', board[0][1], '|', board[0][2], '|')\n",
    "    print('-------------')\n",
    "    print('|', board[1][0], '|', board[1][1], '|', board[1][2], '|')\n",
    "    print('-------------')\n",
    "    print('|', board[2][0], '|', board[2][1], '|', board[2][2], '|')\n",
    "    print('-------------')\n",
    "\n",
    "def initialize_board():\n",
    "    board = [[' ', ' ', ' '],[' ', ' ', ' '],[' ', ' ', ' ']]\n",
    "    return board\n",
    "\n",
    "def board_updateable(board, row, column):\n",
    "    return board[row][column] == ' '\n",
    "\n",
    "def update_board(board, row, column, turn):\n",
    "#     print(f'Before change: {board}')\n",
    "#     print(f'Row: {row} / Column: {column}')\n",
    "    board[row][column] = turn\n",
    "#     print(f'After change: {board}')\n",
    "    return board"
   ]
  },
  {
   "cell_type": "code",
   "execution_count": 2,
   "id": "f8a4840d",
   "metadata": {},
   "outputs": [
    {
     "name": "stdout",
     "output_type": "stream",
     "text": [
      "-------------\n",
      "|   |   |   |\n",
      "-------------\n",
      "|   |   |   |\n",
      "-------------\n",
      "|   |   |   |\n",
      "-------------\n"
     ]
    }
   ],
   "source": [
    "board = initialize_board()\n",
    "display(board)"
   ]
  },
  {
   "cell_type": "code",
   "execution_count": 4,
   "id": "f6ff67c7",
   "metadata": {},
   "outputs": [
    {
     "name": "stdout",
     "output_type": "stream",
     "text": [
      "Please indicate the row: 1\n",
      "Please indicate the column: 1\n",
      "-------------\n",
      "|   |   |   |\n",
      "-------------\n",
      "|   | X |   |\n",
      "-------------\n",
      "|   |   |   |\n",
      "-------------\n",
      "Do you want to exit? N\n",
      "Please indicate the row: 0\n",
      "Please indicate the column: 0\n",
      "-------------\n",
      "| X |   |   |\n",
      "-------------\n",
      "|   | X |   |\n",
      "-------------\n",
      "|   |   |   |\n",
      "-------------\n",
      "Do you want to exit? Y\n"
     ]
    }
   ],
   "source": [
    "while ' ' in board[0] or ' ' in board[1] or ' ' in board[2]:\n",
    "\n",
    "    row = int(input('Please indicate the row: '))\n",
    "    column = int(input('Please indicate the column: '))\n",
    "    \n",
    "    while not board_updateable(board, row, column):\n",
    "        print('Incorrect combination of row and column')\n",
    "        row = int(input('Please indicate the row: '))\n",
    "        column = int(input('Please indicate the column: '))\n",
    "\n",
    "    board = update_board(board, row, column, 'X')\n",
    "\n",
    "    display(board)\n",
    "    \n",
    "    if input('Do you want to exit? ') == 'Y':\n",
    "        break"
   ]
  },
  {
   "cell_type": "code",
   "execution_count": 9,
   "id": "b6a43ecb",
   "metadata": {},
   "outputs": [],
   "source": [
    "import re\n",
    "\n",
    "def user_choice():\n",
    "    # Initialize choice variable\n",
    "    choice = input('Please enter a number (0-10)').strip()\n",
    "    \n",
    "    # RegExp pattern for numbers between 0 and 10 \n",
    "    pattern = r'^([0-9]|10)$'\n",
    "    \n",
    "    # Request an input from the user while the response provided isn´t a number between 0 and 10\n",
    "    while not re.search(pattern,choice):\n",
    "        choice = input('Incorrect input, please enter a number between 0 and 10').strip()\n",
    "    \n",
    "    return int(choice)"
   ]
  },
  {
   "cell_type": "code",
   "execution_count": 10,
   "id": "ef20add6",
   "metadata": {},
   "outputs": [
    {
     "name": "stdout",
     "output_type": "stream",
     "text": [
      "Please choose a number (0-10)0\n"
     ]
    },
    {
     "data": {
      "text/plain": [
       "0"
      ]
     },
     "execution_count": 10,
     "metadata": {},
     "output_type": "execute_result"
    }
   ],
   "source": [
    "user_choice()"
   ]
  },
  {
   "cell_type": "code",
   "execution_count": null,
   "id": "60b74d45",
   "metadata": {},
   "outputs": [],
   "source": [
    "import re\n",
    "\n",
    "pattern = '[0-9]'\n",
    "text = 'a'\n",
    "\n",
    "result = re.search(pattern, text)\n",
    "\n",
    "print(result)\n",
    "print(type(result))\n",
    "\n",
    "if result:\n",
    "    print('Yes')\n",
    "else:\n",
    "    print('No')"
   ]
  },
  {
   "cell_type": "markdown",
   "id": "bbb53913",
   "metadata": {},
   "source": [
    "## Simple User Interaction Sample"
   ]
  },
  {
   "cell_type": "code",
   "execution_count": 1,
   "id": "58280d30",
   "metadata": {},
   "outputs": [],
   "source": [
    "game_list = [0,1,2]"
   ]
  },
  {
   "cell_type": "code",
   "execution_count": 2,
   "id": "72bb328a",
   "metadata": {},
   "outputs": [],
   "source": [
    "def display_game(game_list):\n",
    "    print('Here is the current list: ')\n",
    "    print(game_list)"
   ]
  },
  {
   "cell_type": "code",
   "execution_count": 3,
   "id": "a207b4a4",
   "metadata": {},
   "outputs": [
    {
     "name": "stdout",
     "output_type": "stream",
     "text": [
      "Here is the current list: \n",
      "[0, 1, 2]\n"
     ]
    }
   ],
   "source": [
    "display_game(game_list)"
   ]
  },
  {
   "cell_type": "code",
   "execution_count": 4,
   "id": "050e4ccb",
   "metadata": {},
   "outputs": [],
   "source": [
    "def position_choice():\n",
    "    \n",
    "    choice = 'wrong'\n",
    "    \n",
    "    while choice not in ['0','1','2']:\n",
    "        \n",
    "        choice = input('Pick a position (0,1,2): ')\n",
    "        \n",
    "        if choice not in ['0','1','2']:\n",
    "            print('Sorry, invalid choice!')\n",
    "            \n",
    "    return int(choice)"
   ]
  },
  {
   "cell_type": "code",
   "execution_count": 5,
   "id": "d026018f",
   "metadata": {},
   "outputs": [
    {
     "name": "stdout",
     "output_type": "stream",
     "text": [
      "Pick a position (0,1,2): two\n",
      "Sorry, invalid choice!\n",
      "Pick a position (0,1,2): a\n",
      "Sorry, invalid choice!\n",
      "Pick a position (0,1,2): 4\n",
      "Sorry, invalid choice!\n",
      "Pick a position (0,1,2): 1\n"
     ]
    },
    {
     "data": {
      "text/plain": [
       "1"
      ]
     },
     "execution_count": 5,
     "metadata": {},
     "output_type": "execute_result"
    }
   ],
   "source": [
    "position_choice()"
   ]
  },
  {
   "cell_type": "code",
   "execution_count": 6,
   "id": "696a7496",
   "metadata": {},
   "outputs": [],
   "source": [
    "def replacement_choice(game_list,position):\n",
    "    \n",
    "    user_placement = input('Type a string to place at position: ')\n",
    "    \n",
    "    game_list[position] = user_placement\n",
    "    \n",
    "    return game_list"
   ]
  },
  {
   "cell_type": "code",
   "execution_count": 7,
   "id": "8d2fe3ca",
   "metadata": {},
   "outputs": [
    {
     "name": "stdout",
     "output_type": "stream",
     "text": [
      "Type a string to place at position: Test\n"
     ]
    },
    {
     "data": {
      "text/plain": [
       "[0, 'Test', 2]"
      ]
     },
     "execution_count": 7,
     "metadata": {},
     "output_type": "execute_result"
    }
   ],
   "source": [
    "replacement_choice(game_list,1)"
   ]
  },
  {
   "cell_type": "code",
   "execution_count": 8,
   "id": "410b9f0d",
   "metadata": {},
   "outputs": [],
   "source": [
    "def gameon_choice():\n",
    "    \n",
    "    choice = 'wrong'\n",
    "    \n",
    "    while choice not in ['Y','N']:\n",
    "        \n",
    "        choice = input('Do you want to keep playing? (Y or N) ')\n",
    "        \n",
    "        if choice not in ['Y','N']:\n",
    "            print('Sorry, I do not understand, please choose Y or N')\n",
    "            \n",
    "    if choice == 'Y':\n",
    "        return True\n",
    "    else:\n",
    "        return False"
   ]
  },
  {
   "cell_type": "code",
   "execution_count": 10,
   "id": "ace9b88b",
   "metadata": {},
   "outputs": [
    {
     "name": "stdout",
     "output_type": "stream",
     "text": [
      "Do you want to keep playing? (Y or N) N\n"
     ]
    },
    {
     "data": {
      "text/plain": [
       "False"
      ]
     },
     "execution_count": 10,
     "metadata": {},
     "output_type": "execute_result"
    }
   ],
   "source": [
    "gameon_choice()"
   ]
  },
  {
   "cell_type": "code",
   "execution_count": 11,
   "id": "0c6d99d2",
   "metadata": {},
   "outputs": [
    {
     "name": "stdout",
     "output_type": "stream",
     "text": [
      "Here is the current list: \n",
      "[0, 1, 2]\n",
      "Pick a position (0,1,2): u\n",
      "Sorry, invalid choice!\n",
      "Pick a position (0,1,2): 2\n",
      "Type a string to place at position: Two\n",
      "Here is the current list: \n",
      "[0, 1, 'Two']\n",
      "Do you want to keep playing? (Y or N) N\n"
     ]
    }
   ],
   "source": [
    "game_on = True\n",
    "game_list = [0,1,2]\n",
    "\n",
    "while game_on:\n",
    "    \n",
    "    display_game(game_list)\n",
    "    \n",
    "    position = position_choice()\n",
    "    \n",
    "    game_list = replacement_choice(game_list,position)\n",
    "    \n",
    "    display_game(game_list)\n",
    "    \n",
    "    game_on = gameon_choice()"
   ]
  },
  {
   "cell_type": "code",
   "execution_count": null,
   "id": "c09bf981",
   "metadata": {},
   "outputs": [],
   "source": []
  }
 ],
 "metadata": {
  "kernelspec": {
   "display_name": "Python 3 (ipykernel)",
   "language": "python",
   "name": "python3"
  },
  "language_info": {
   "codemirror_mode": {
    "name": "ipython",
    "version": 3
   },
   "file_extension": ".py",
   "mimetype": "text/x-python",
   "name": "python",
   "nbconvert_exporter": "python",
   "pygments_lexer": "ipython3",
   "version": "3.9.7"
  }
 },
 "nbformat": 4,
 "nbformat_minor": 5
}
