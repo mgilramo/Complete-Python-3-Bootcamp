{
 "cells": [
  {
   "cell_type": "markdown",
   "metadata": {},
   "source": [
    "___\n",
    "\n",
    "<a href='https://www.udemy.com/user/joseportilla/'><img src='../Pierian_Data_Logo.png'/></a>\n",
    "___\n",
    "<center><em>Content Copyright by Pierian Data</em></center>"
   ]
  },
  {
   "cell_type": "markdown",
   "metadata": {},
   "source": [
    "# Milestone Project 1: Walkthrough Steps Workbook\n",
    "\n",
    "Below is a set of steps for you to follow to try to create the Tic Tac Toe Milestone Project game!"
   ]
  },
  {
   "cell_type": "markdown",
   "metadata": {},
   "source": [
    "#### Some suggested tools before you get started:\n",
    "To take input from a user:\n",
    "\n",
    "    player1 = input(\"Please pick a marker 'X' or 'O'\")\n",
    "    \n",
    "Note that input() takes in a string. If you need an integer value, use\n",
    "\n",
    "    position = int(input('Please enter a number'))\n",
    "    \n",
    "<br>To clear the screen between moves:\n",
    "\n",
    "    from IPython.display import clear_output\n",
    "    clear_output()\n",
    "    \n",
    "Note that clear_output() will only work in jupyter. To clear the screen in other IDEs, consider:\n",
    "\n",
    "    print('\\n'*100)\n",
    "    \n",
    "This scrolls the previous board up out of view. Now on to the program!"
   ]
  },
  {
   "cell_type": "markdown",
   "metadata": {},
   "source": [
    "**Step 1: Write a function that can print out a board. Set up your board as a list, where each index 1-9 corresponds with a number on a number pad, so you get a 3 by 3 board representation.**"
   ]
  },
  {
   "cell_type": "code",
   "execution_count": 1,
   "metadata": {},
   "outputs": [],
   "source": [
    "from IPython.display import clear_output\n",
    "\n",
    "def display_board(board):\n",
    "    clear_output()\n",
    "    line = '-------'\n",
    "    new_board = [[board[7],board[8],board[9]],[board[4],board[5],board[6]],[board[1],board[2],board[3]]]\n",
    "    options_board = [[7,8,9],[4,5,6],[1,2,3]]\n",
    "    # PRINT THE BOARD AS IT IS\n",
    "    print('-- Current Board --')\n",
    "    for row in new_board:\n",
    "        print(line)\n",
    "        print(f'|{row[0]}|{row[1]}|{row[2]}|')\n",
    "    print(line)\n",
    "    \n",
    "    # PRINT THE OPTIONS BOARD WITH THE POSSIBLE OPTIONS\n",
    "    print('-- Options Board --')\n",
    "    for row in options_board:\n",
    "        print(line)\n",
    "        print(f'|{row[0]}|{row[1]}|{row[2]}|')\n",
    "    print(line)"
   ]
  },
  {
   "cell_type": "markdown",
   "metadata": {},
   "source": [
    "**TEST Step 1:** run your function on a test version of the board list, and make adjustments as necessary"
   ]
  },
  {
   "cell_type": "code",
   "execution_count": 2,
   "metadata": {},
   "outputs": [
    {
     "name": "stdout",
     "output_type": "stream",
     "text": [
      "-- Current Board --\n",
      "-------\n",
      "|X|O|X|\n",
      "-------\n",
      "|O|X|O|\n",
      "-------\n",
      "|X|O|X|\n",
      "-------\n",
      "-- Options Board --\n",
      "-------\n",
      "|7|8|9|\n",
      "-------\n",
      "|4|5|6|\n",
      "-------\n",
      "|1|2|3|\n",
      "-------\n"
     ]
    }
   ],
   "source": [
    "test_board = ['#','X','O','X','O','X','O','X','O','X']\n",
    "display_board(test_board)\n",
    "display_board(test_board)\n",
    "display_board(test_board)\n",
    "display_board(test_board)"
   ]
  },
  {
   "cell_type": "markdown",
   "metadata": {},
   "source": [
    "**Step 2: Write a function that can take in a player input and assign their marker as 'X' or 'O'. Think about using *while* loops to continually ask until you get a correct answer.**"
   ]
  },
  {
   "cell_type": "code",
   "execution_count": 3,
   "metadata": {},
   "outputs": [],
   "source": [
    "def player_input():\n",
    "    marker_choice = input(\"Please pick a marker 'X' or 'O': \")\n",
    "    \n",
    "    while marker_choice not in ['X','O']:\n",
    "        print('Invalid input')\n",
    "        marker_choice = input(\"Please pick a marker 'X' or 'O': \")\n",
    "    \n",
    "    return marker_choice"
   ]
  },
  {
   "cell_type": "markdown",
   "metadata": {},
   "source": [
    "**TEST Step 2:** run the function to make sure it returns the desired output"
   ]
  },
  {
   "cell_type": "code",
   "execution_count": 4,
   "metadata": {},
   "outputs": [],
   "source": [
    "# player_input()"
   ]
  },
  {
   "cell_type": "markdown",
   "metadata": {},
   "source": [
    "**Step 3: Write a function that takes in the board list object, a marker ('X' or 'O'), and a desired position (number 1-9) and assigns it to the board.**"
   ]
  },
  {
   "cell_type": "code",
   "execution_count": 22,
   "metadata": {},
   "outputs": [],
   "source": [
    "def place_marker(board, marker, position):\n",
    "    board[position] = marker\n",
    "    # return board"
   ]
  },
  {
   "cell_type": "markdown",
   "metadata": {},
   "source": [
    "**TEST Step 3:** run the place marker function using test parameters and display the modified board"
   ]
  },
  {
   "cell_type": "code",
   "execution_count": 20,
   "metadata": {},
   "outputs": [
    {
     "name": "stdout",
     "output_type": "stream",
     "text": [
      "-- Current Board --\n",
      "-------\n",
      "||||\n",
      "-------\n",
      "||||\n",
      "-------\n",
      "|Test|||\n",
      "-------\n",
      "-- Options Board --\n",
      "-------\n",
      "|7|8|9|\n",
      "-------\n",
      "|4|5|6|\n",
      "-------\n",
      "|1|2|3|\n",
      "-------\n"
     ]
    }
   ],
   "source": [
    "bacalao = ['']*10\n",
    "place_marker(bacalao,'Test',1)\n",
    "display_board(bacalao)"
   ]
  },
  {
   "cell_type": "markdown",
   "metadata": {},
   "source": [
    "**Step 4: Write a function that takes in a board and a mark (X or O) and then checks to see if that mark has won. **"
   ]
  },
  {
   "cell_type": "code",
   "execution_count": 7,
   "metadata": {},
   "outputs": [],
   "source": [
    "def win_check(board, mark):\n",
    "    win_combinations = [[1,2,3],[4,5,6],[7,8,9],[1,4,7],[2,5,8],[3,6,9],[1,5,9],[3,5,7]]\n",
    "    \n",
    "    for win_combination in win_combinations:\n",
    "        if board[win_combination[0]] == mark and board[win_combination[1]] == mark and board[win_combination[2]] == mark:\n",
    "            return True\n",
    "    \n",
    "    return False"
   ]
  },
  {
   "cell_type": "markdown",
   "metadata": {},
   "source": [
    "**TEST Step 4:** run the win_check function against our test_board - it should return True"
   ]
  },
  {
   "cell_type": "code",
   "execution_count": 8,
   "metadata": {},
   "outputs": [
    {
     "data": {
      "text/plain": [
       "True"
      ]
     },
     "execution_count": 8,
     "metadata": {},
     "output_type": "execute_result"
    }
   ],
   "source": [
    "win_check(test_board,'X')"
   ]
  },
  {
   "cell_type": "markdown",
   "metadata": {},
   "source": [
    "**Step 5: Write a function that uses the random module to randomly decide which player goes first. You may want to lookup random.randint() Return a string of which player went first.**"
   ]
  },
  {
   "cell_type": "code",
   "execution_count": 9,
   "metadata": {},
   "outputs": [],
   "source": [
    "import random\n",
    "\n",
    "def choose_first():\n",
    "    chosen_player = random.randint(0,1)\n",
    "    return chosen_player"
   ]
  },
  {
   "cell_type": "markdown",
   "metadata": {},
   "source": [
    "**Step 6: Write a function that returns a boolean indicating whether a space on the board is freely available.**"
   ]
  },
  {
   "cell_type": "code",
   "execution_count": 10,
   "metadata": {},
   "outputs": [],
   "source": [
    "def space_check(board, position):\n",
    "    return board[position] == ' '"
   ]
  },
  {
   "cell_type": "markdown",
   "metadata": {},
   "source": [
    "**Step 7: Write a function that checks if the board is full and returns a boolean value. True if full, False otherwise.**"
   ]
  },
  {
   "cell_type": "code",
   "execution_count": 11,
   "metadata": {},
   "outputs": [],
   "source": [
    "def full_board_check(board):\n",
    "    return ' ' not in board"
   ]
  },
  {
   "cell_type": "markdown",
   "metadata": {},
   "source": [
    "**Step 8: Write a function that asks for a player's next position (as a number 1-9) and then uses the function from step 6 to check if it's a free position. If it is, then return the position for later use.**"
   ]
  },
  {
   "cell_type": "code",
   "execution_count": 12,
   "metadata": {},
   "outputs": [],
   "source": [
    "def player_choice(board):\n",
    "    chosen_position = input(\"Please pick a position (1-9): \")\n",
    "    loop_req = True\n",
    "    \n",
    "    while loop_req:\n",
    "        if chosen_position not in ['1','2','3','4','5','6','7','8','9']:\n",
    "            print('Invalid input')\n",
    "            chosen_position = input(\"Please pick a position (1-9): \")\n",
    "        else:\n",
    "            if not space_check(board,int(chosen_position)):\n",
    "                print('Position not empty')\n",
    "                chosen_position = input(\"Please pick another position (1-9): \")\n",
    "            else:\n",
    "                loop_req = False\n",
    "    \n",
    "    return int(chosen_position)"
   ]
  },
  {
   "cell_type": "markdown",
   "metadata": {},
   "source": [
    "**Step 9: Write a function that asks the player if they want to play again and returns a boolean True if they do want to play again.**"
   ]
  },
  {
   "cell_type": "code",
   "execution_count": 13,
   "metadata": {},
   "outputs": [],
   "source": [
    "def replay():\n",
    "    continue_playing = input(\"Do you want to continue playing? (Y or N): \")\n",
    "    \n",
    "    while continue_playing not in ['Y', 'N']:\n",
    "        print('Invalid input')\n",
    "        continue_playing = input(\"Do you want to continue playing? (Y or N): \")\n",
    "        \n",
    "    return continue_playing == 'Y'"
   ]
  },
  {
   "cell_type": "code",
   "execution_count": 14,
   "metadata": {},
   "outputs": [],
   "source": [
    "def set_users():\n",
    "    player1 = input('Player 1, what is your name?')\n",
    "    player2 = input('Player 2, what is your name?')\n",
    "    return [player1,player2]"
   ]
  },
  {
   "cell_type": "markdown",
   "metadata": {
    "collapsed": true
   },
   "source": [
    "**Step 10: Here comes the hard part! Use while loops and the functions you've made to run the game!**"
   ]
  },
  {
   "cell_type": "code",
   "execution_count": 23,
   "metadata": {},
   "outputs": [
    {
     "name": "stdout",
     "output_type": "stream",
     "text": [
      "-- Current Board --\n",
      "-------\n",
      "| |O|O|\n",
      "-------\n",
      "|X|X| |\n",
      "-------\n",
      "| | | |\n",
      "-------\n",
      "-- Options Board --\n",
      "-------\n",
      "|7|8|9|\n",
      "-------\n",
      "|4|5|6|\n",
      "-------\n",
      "|1|2|3|\n",
      "-------\n",
      "Paoc is your turn!\n",
      "Please pick a position (1-9): 6\n",
      "Congratulations Paoc, you are the winner!\n",
      "Do you want to continue playing? (Y or N): N\n"
     ]
    }
   ],
   "source": [
    "from IPython.display import clear_output\n",
    "\n",
    "print('Welcome to Tic Tac Toe!')\n",
    "\n",
    "another_round = True\n",
    "\n",
    "while another_round:\n",
    "    clear_output()\n",
    "    \n",
    "    # INITIALIZE VARIABLES\n",
    "    markers = ['X','O']\n",
    "    board = [' '] * 10\n",
    "    winner = [False, '']\n",
    "    \n",
    "    # REQUEST PLAYERS NAMES\n",
    "    players = set_users()\n",
    "    \n",
    "    # CHOSE FIRST PLAYER AND REQUEST MARKER\n",
    "    player_turn = choose_first()\n",
    "    current_player = players[player_turn]\n",
    "    print(f'{current_player} you are first!')\n",
    "    chosen_mark = player_input()\n",
    "    \n",
    "    # DICTIONARY WITH BOTH PLAYERS AND MARKERS\n",
    "    markers.remove(chosen_mark)\n",
    "    players_d = {current_player:chosen_mark,players[0 if player_turn == 1 else 1]:markers[0]}\n",
    "    \n",
    "    while not full_board_check(board) and not winner[0]:\n",
    "        # DISPLAY BOARD BEFORE REQUESTING THE USER TO PICK A POSITION\n",
    "        display_board(board)\n",
    "        \n",
    "        # REQUEST THE USER TO PICK A POSITION AND APPLY IT TO THE BOARD\n",
    "        print(f'{current_player} is your turn!')\n",
    "        position = player_choice(board)\n",
    "        place_marker(board, players_d[current_player], position)\n",
    "        \n",
    "        # CHECK WHETHER THE USER HAS WON\n",
    "        if win_check(board, players_d[current_player]):\n",
    "            winner[0] = True\n",
    "            winner[1] = current_player\n",
    "        else:\n",
    "            # CHANGE PLAYER TURN IF NO WINNER\n",
    "            if current_player == players[0]:\n",
    "                current_player = players[1]\n",
    "            else:\n",
    "                current_player = players[0]\n",
    "    \n",
    "    if winner[0]:\n",
    "        print(f'Congratulations {winner[1]}, you are the winner!')\n",
    "    else:\n",
    "        print(\"The board is full and there is not winner, so it's a draw!\")\n",
    "        \n",
    "    another_round = replay()"
   ]
  },
  {
   "cell_type": "markdown",
   "metadata": {
    "collapsed": true
   },
   "source": [
    "## Good Job!"
   ]
  }
 ],
 "metadata": {
  "kernelspec": {
   "display_name": "Python 3 (ipykernel)",
   "language": "python",
   "name": "python3"
  },
  "language_info": {
   "codemirror_mode": {
    "name": "ipython",
    "version": 3
   },
   "file_extension": ".py",
   "mimetype": "text/x-python",
   "name": "python",
   "nbconvert_exporter": "python",
   "pygments_lexer": "ipython3",
   "version": "3.9.7"
  }
 },
 "nbformat": 4,
 "nbformat_minor": 1
}
