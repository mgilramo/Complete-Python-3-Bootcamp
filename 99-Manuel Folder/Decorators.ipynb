{
 "cells": [
  {
   "cell_type": "code",
   "execution_count": 1,
   "id": "1b78cc85",
   "metadata": {},
   "outputs": [],
   "source": [
    "def func():\n",
    "    return 1"
   ]
  },
  {
   "cell_type": "code",
   "execution_count": 2,
   "id": "8f5ba2a6",
   "metadata": {},
   "outputs": [
    {
     "data": {
      "text/plain": [
       "1"
      ]
     },
     "execution_count": 2,
     "metadata": {},
     "output_type": "execute_result"
    }
   ],
   "source": [
    "func()"
   ]
  },
  {
   "cell_type": "code",
   "execution_count": 3,
   "id": "18a6f64f",
   "metadata": {},
   "outputs": [
    {
     "data": {
      "text/plain": [
       "<function __main__.func()>"
      ]
     },
     "execution_count": 3,
     "metadata": {},
     "output_type": "execute_result"
    }
   ],
   "source": [
    "func"
   ]
  },
  {
   "cell_type": "code",
   "execution_count": 4,
   "id": "5a93ccc5",
   "metadata": {},
   "outputs": [],
   "source": [
    "copy_func = func"
   ]
  },
  {
   "cell_type": "code",
   "execution_count": 5,
   "id": "180c87a5",
   "metadata": {},
   "outputs": [
    {
     "data": {
      "text/plain": [
       "1"
      ]
     },
     "execution_count": 5,
     "metadata": {},
     "output_type": "execute_result"
    }
   ],
   "source": [
    "copy_func()"
   ]
  },
  {
   "cell_type": "code",
   "execution_count": 7,
   "id": "2c2d68e9",
   "metadata": {},
   "outputs": [],
   "source": [
    "del func"
   ]
  },
  {
   "cell_type": "code",
   "execution_count": 8,
   "id": "f005da4d",
   "metadata": {},
   "outputs": [
    {
     "data": {
      "text/plain": [
       "1"
      ]
     },
     "execution_count": 8,
     "metadata": {},
     "output_type": "execute_result"
    }
   ],
   "source": [
    "copy_func()"
   ]
  },
  {
   "cell_type": "code",
   "execution_count": 9,
   "id": "694104af",
   "metadata": {},
   "outputs": [],
   "source": [
    "def hello(name='Manuel'):\n",
    "    print('The hello() function has been executed')\n",
    "    \n",
    "    def greet():\n",
    "        return '\\t This is the greet() func inside hello'\n",
    "    \n",
    "    def welcome():\n",
    "        return '\\t This is the welcome() func inside hello'\n",
    "    \n",
    "    print(greet())\n",
    "    print(welcome())\n",
    "    print('This is the end of the hello function')"
   ]
  },
  {
   "cell_type": "code",
   "execution_count": 10,
   "id": "df464de1",
   "metadata": {},
   "outputs": [
    {
     "name": "stdout",
     "output_type": "stream",
     "text": [
      "The hello() function has been executed\n",
      "\t This is the greet() func inside hello\n",
      "\t This is the welcome() func inside hello\n",
      "This is the end of the hello function\n"
     ]
    }
   ],
   "source": [
    "hello()"
   ]
  },
  {
   "cell_type": "code",
   "execution_count": 11,
   "id": "42c24c5e",
   "metadata": {},
   "outputs": [
    {
     "ename": "NameError",
     "evalue": "name 'welcome' is not defined",
     "output_type": "error",
     "traceback": [
      "\u001b[1;31m---------------------------------------------------------------------------\u001b[0m",
      "\u001b[1;31mNameError\u001b[0m                                 Traceback (most recent call last)",
      "\u001b[1;32m~\\AppData\\Local\\Temp/ipykernel_30384/241228648.py\u001b[0m in \u001b[0;36m<module>\u001b[1;34m\u001b[0m\n\u001b[1;32m----> 1\u001b[1;33m \u001b[0mwelcome\u001b[0m\u001b[1;33m(\u001b[0m\u001b[1;33m)\u001b[0m\u001b[1;33m\u001b[0m\u001b[1;33m\u001b[0m\u001b[0m\n\u001b[0m",
      "\u001b[1;31mNameError\u001b[0m: name 'welcome' is not defined"
     ]
    }
   ],
   "source": [
    "welcome()"
   ]
  },
  {
   "cell_type": "code",
   "execution_count": 36,
   "id": "6f1ed787",
   "metadata": {},
   "outputs": [],
   "source": [
    "def func_with_funcs(name='func1'):\n",
    "    def func1():\n",
    "        return \"I'm func1 within func_with_funcs\"\n",
    "        \n",
    "    def func2():\n",
    "        return \"I'm func2 within func_with_funcs\"\n",
    "    \n",
    "    # print(func1())\n",
    "    # print(func2())\n",
    "    \n",
    "    if name == 'func1':\n",
    "        return func1\n",
    "    else:\n",
    "        return func2"
   ]
  },
  {
   "cell_type": "code",
   "execution_count": 37,
   "id": "77ca4778",
   "metadata": {},
   "outputs": [],
   "source": [
    "out_func1 = func_with_funcs()"
   ]
  },
  {
   "cell_type": "code",
   "execution_count": 38,
   "id": "7370adb1",
   "metadata": {},
   "outputs": [
    {
     "name": "stdout",
     "output_type": "stream",
     "text": [
      "I'm func1 within func_with_funcs\n"
     ]
    }
   ],
   "source": [
    "print(out_func1())"
   ]
  },
  {
   "cell_type": "code",
   "execution_count": 39,
   "id": "b8622ce5",
   "metadata": {},
   "outputs": [],
   "source": [
    "def other(some_func):\n",
    "    print('Other code runs here')\n",
    "    print(some_func())"
   ]
  },
  {
   "cell_type": "code",
   "execution_count": 44,
   "id": "d7c6245b",
   "metadata": {},
   "outputs": [
    {
     "name": "stdout",
     "output_type": "stream",
     "text": [
      "Other code runs here\n",
      "I'm func1 within func_with_funcs\n"
     ]
    }
   ],
   "source": [
    "other(func_with_funcs())"
   ]
  },
  {
   "cell_type": "markdown",
   "id": "f6223c2b",
   "metadata": {},
   "source": [
    "## Decorator function"
   ]
  },
  {
   "cell_type": "code",
   "execution_count": 45,
   "id": "932d05d1",
   "metadata": {},
   "outputs": [],
   "source": [
    "def new_decorator(original_func):\n",
    "    \n",
    "    def wrap_func():\n",
    "        print(\"Some code executed prior to the original func\")\n",
    "        \n",
    "        original_func()\n",
    "        \n",
    "        print(\"Some code executed post to the original func\")\n",
    "        \n",
    "    return wrap_func\n",
    "        "
   ]
  },
  {
   "cell_type": "code",
   "execution_count": 46,
   "id": "95c5312d",
   "metadata": {},
   "outputs": [],
   "source": [
    "def func_needs_decorator():\n",
    "    print(\"I want to be decorated\")"
   ]
  },
  {
   "cell_type": "code",
   "execution_count": 47,
   "id": "7e5d75f5",
   "metadata": {},
   "outputs": [],
   "source": [
    "decorated_func = new_decorator(func_needs_decorator)"
   ]
  },
  {
   "cell_type": "code",
   "execution_count": 48,
   "id": "1b505576",
   "metadata": {},
   "outputs": [
    {
     "name": "stdout",
     "output_type": "stream",
     "text": [
      "Some code executed prior to the original func\n",
      "I want to be decorated\n",
      "Some code executed post to the original func\n"
     ]
    }
   ],
   "source": [
    "decorated_func()"
   ]
  },
  {
   "cell_type": "code",
   "execution_count": 49,
   "id": "b95a2539",
   "metadata": {},
   "outputs": [],
   "source": [
    "# This is the same as creating the function (another_func) and calling the decorator\n",
    "# but without needing to create an additional function\n",
    "\n",
    "@new_decorator\n",
    "def another_func():\n",
    "    print('Function which is going to be decorated')"
   ]
  },
  {
   "cell_type": "code",
   "execution_count": 50,
   "id": "93718b45",
   "metadata": {},
   "outputs": [
    {
     "name": "stdout",
     "output_type": "stream",
     "text": [
      "Some code executed prior to the original func\n",
      "Function which is going to be decorated\n",
      "Some code executed post to the original func\n"
     ]
    }
   ],
   "source": [
    "another_func()"
   ]
  },
  {
   "cell_type": "code",
   "execution_count": null,
   "id": "cce66d79",
   "metadata": {},
   "outputs": [],
   "source": []
  }
 ],
 "metadata": {
  "kernelspec": {
   "display_name": "Python 3 (ipykernel)",
   "language": "python",
   "name": "python3"
  },
  "language_info": {
   "codemirror_mode": {
    "name": "ipython",
    "version": 3
   },
   "file_extension": ".py",
   "mimetype": "text/x-python",
   "name": "python",
   "nbconvert_exporter": "python",
   "pygments_lexer": "ipython3",
   "version": "3.9.7"
  }
 },
 "nbformat": 4,
 "nbformat_minor": 5
}
